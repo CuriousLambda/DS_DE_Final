{
 "cells": [
  {
   "cell_type": "code",
   "execution_count": 1,
   "metadata": {},
   "outputs": [],
   "source": [
    "from IPython.core.interactiveshell import InteractiveShell\n",
    "InteractiveShell.ast_node_interactivity = \"all\""
   ]
  },
  {
   "cell_type": "code",
   "execution_count": 1,
   "metadata": {},
   "outputs": [],
   "source": [
    "import pandas as pd\n",
    "import os\n",
    "import cv2\n",
    "import json"
   ]
  },
  {
   "cell_type": "code",
   "execution_count": 2,
   "metadata": {},
   "outputs": [],
   "source": [
    "damage_labeling = pd.read_csv('damage_labeling_old.csv')\n",
    "part_labeling = pd.read_csv('part_labeling_old.csv')"
   ]
  },
  {
   "cell_type": "code",
   "execution_count": 4,
   "metadata": {},
   "outputs": [
    {
     "data": {
      "text/plain": [
       "67298"
      ]
     },
     "execution_count": 4,
     "metadata": {},
     "output_type": "execute_result"
    }
   ],
   "source": [
    "label_dam_dir = '../data/Dataset/2.라벨링데이터/damage/'\n",
    "label_dam = os.listdir(label_dam_dir)\n",
    "\n",
    "len(label_dam)"
   ]
  },
  {
   "cell_type": "code",
   "execution_count": 5,
   "metadata": {},
   "outputs": [
    {
     "data": {
      "text/plain": [
       "['index',\n",
       " 'Scratched',\n",
       " 'Breakage',\n",
       " 'Separated',\n",
       " 'Crushed',\n",
       " 'total_anns',\n",
       " 'ran_var',\n",
       " 'dataset']"
      ]
     },
     "execution_count": 5,
     "metadata": {},
     "output_type": "execute_result"
    }
   ],
   "source": [
    "damage_labeling.columns\n",
    "list(damage_labeling.columns)"
   ]
  },
  {
   "cell_type": "code",
   "execution_count": 70,
   "metadata": {},
   "outputs": [
    {
     "data": {
      "text/plain": [
       "train    0.799914\n",
       "val      0.100162\n",
       "test     0.099923\n",
       "Name: dataset, dtype: float64"
      ]
     },
     "execution_count": 70,
     "metadata": {},
     "output_type": "execute_result"
    }
   ],
   "source": [
    "### damage_labeling에서 train/test/val 비율 확인 ###\n",
    "\n",
    "damage_labeling['dataset'].value_counts(normalize= True)"
   ]
  },
  {
   "cell_type": "code",
   "execution_count": 6,
   "metadata": {},
   "outputs": [],
   "source": [
    "### 원본 damage_labeling의 컬럼으로 df 생성하기 ###\n",
    "dmg_label = pd.DataFrame(columns=list(damage_labeling.columns))"
   ]
  },
  {
   "cell_type": "code",
   "execution_count": 7,
   "metadata": {},
   "outputs": [
    {
     "data": {
      "text/html": [
       "<div>\n",
       "<style scoped>\n",
       "    .dataframe tbody tr th:only-of-type {\n",
       "        vertical-align: middle;\n",
       "    }\n",
       "\n",
       "    .dataframe tbody tr th {\n",
       "        vertical-align: top;\n",
       "    }\n",
       "\n",
       "    .dataframe thead th {\n",
       "        text-align: right;\n",
       "    }\n",
       "</style>\n",
       "<table border=\"1\" class=\"dataframe\">\n",
       "  <thead>\n",
       "    <tr style=\"text-align: right;\">\n",
       "      <th></th>\n",
       "      <th>index</th>\n",
       "      <th>Scratched</th>\n",
       "      <th>Breakage</th>\n",
       "      <th>Separated</th>\n",
       "      <th>Crushed</th>\n",
       "      <th>total_anns</th>\n",
       "      <th>ran_var</th>\n",
       "      <th>dataset</th>\n",
       "    </tr>\n",
       "  </thead>\n",
       "  <tbody>\n",
       "    <tr>\n",
       "      <th>57737</th>\n",
       "      <td>0000002_as-0036229.jpg</td>\n",
       "      <td>NaN</td>\n",
       "      <td>1</td>\n",
       "      <td>NaN</td>\n",
       "      <td>NaN</td>\n",
       "      <td>1.0</td>\n",
       "      <td>NaN</td>\n",
       "      <td>test</td>\n",
       "    </tr>\n",
       "    <tr>\n",
       "      <th>8097</th>\n",
       "      <td>0000003_as-0036229.jpg</td>\n",
       "      <td>NaN</td>\n",
       "      <td>1</td>\n",
       "      <td>NaN</td>\n",
       "      <td>NaN</td>\n",
       "      <td>1.0</td>\n",
       "      <td>NaN</td>\n",
       "      <td>train</td>\n",
       "    </tr>\n",
       "    <tr>\n",
       "      <th>5162</th>\n",
       "      <td>0000004_as-0036229.jpg</td>\n",
       "      <td>1</td>\n",
       "      <td>1</td>\n",
       "      <td>NaN</td>\n",
       "      <td>NaN</td>\n",
       "      <td>2.0</td>\n",
       "      <td>NaN</td>\n",
       "      <td>train</td>\n",
       "    </tr>\n",
       "    <tr>\n",
       "      <th>27605</th>\n",
       "      <td>0000005_as-0036229.jpg</td>\n",
       "      <td>1</td>\n",
       "      <td>NaN</td>\n",
       "      <td>NaN</td>\n",
       "      <td>NaN</td>\n",
       "      <td>1.0</td>\n",
       "      <td>NaN</td>\n",
       "      <td>train</td>\n",
       "    </tr>\n",
       "    <tr>\n",
       "      <th>60568</th>\n",
       "      <td>0000006_as-0036229.jpg</td>\n",
       "      <td>NaN</td>\n",
       "      <td>NaN</td>\n",
       "      <td>1</td>\n",
       "      <td>NaN</td>\n",
       "      <td>1.0</td>\n",
       "      <td>NaN</td>\n",
       "      <td>val</td>\n",
       "    </tr>\n",
       "    <tr>\n",
       "      <th>...</th>\n",
       "      <td>...</td>\n",
       "      <td>...</td>\n",
       "      <td>...</td>\n",
       "      <td>...</td>\n",
       "      <td>...</td>\n",
       "      <td>...</td>\n",
       "      <td>...</td>\n",
       "      <td>...</td>\n",
       "    </tr>\n",
       "    <tr>\n",
       "      <th>26156</th>\n",
       "      <td>0506218_sc-1037200.jpg</td>\n",
       "      <td>1</td>\n",
       "      <td>NaN</td>\n",
       "      <td>NaN</td>\n",
       "      <td>NaN</td>\n",
       "      <td>1.0</td>\n",
       "      <td>NaN</td>\n",
       "      <td>train</td>\n",
       "    </tr>\n",
       "    <tr>\n",
       "      <th>6733</th>\n",
       "      <td>0506219_sc-1037200.jpg</td>\n",
       "      <td>1</td>\n",
       "      <td>NaN</td>\n",
       "      <td>NaN</td>\n",
       "      <td>1</td>\n",
       "      <td>2.0</td>\n",
       "      <td>NaN</td>\n",
       "      <td>train</td>\n",
       "    </tr>\n",
       "    <tr>\n",
       "      <th>59626</th>\n",
       "      <td>0506220_sc-1037200.jpg</td>\n",
       "      <td>1</td>\n",
       "      <td>1</td>\n",
       "      <td>1</td>\n",
       "      <td>NaN</td>\n",
       "      <td>3.0</td>\n",
       "      <td>NaN</td>\n",
       "      <td>test</td>\n",
       "    </tr>\n",
       "    <tr>\n",
       "      <th>51588</th>\n",
       "      <td>0506225_sc-1023899.jpg</td>\n",
       "      <td>2</td>\n",
       "      <td>NaN</td>\n",
       "      <td>NaN</td>\n",
       "      <td>NaN</td>\n",
       "      <td>2.0</td>\n",
       "      <td>NaN</td>\n",
       "      <td>train</td>\n",
       "    </tr>\n",
       "    <tr>\n",
       "      <th>15939</th>\n",
       "      <td>0506226_sc-1023899.jpg</td>\n",
       "      <td>5</td>\n",
       "      <td>NaN</td>\n",
       "      <td>NaN</td>\n",
       "      <td>NaN</td>\n",
       "      <td>5.0</td>\n",
       "      <td>NaN</td>\n",
       "      <td>train</td>\n",
       "    </tr>\n",
       "  </tbody>\n",
       "</table>\n",
       "<p>67298 rows × 8 columns</p>\n",
       "</div>"
      ],
      "text/plain": [
       "                        index Scratched Breakage Separated Crushed  \\\n",
       "57737  0000002_as-0036229.jpg       NaN        1       NaN     NaN   \n",
       "8097   0000003_as-0036229.jpg       NaN        1       NaN     NaN   \n",
       "5162   0000004_as-0036229.jpg         1        1       NaN     NaN   \n",
       "27605  0000005_as-0036229.jpg         1      NaN       NaN     NaN   \n",
       "60568  0000006_as-0036229.jpg       NaN      NaN         1     NaN   \n",
       "...                       ...       ...      ...       ...     ...   \n",
       "26156  0506218_sc-1037200.jpg         1      NaN       NaN     NaN   \n",
       "6733   0506219_sc-1037200.jpg         1      NaN       NaN       1   \n",
       "59626  0506220_sc-1037200.jpg         1        1         1     NaN   \n",
       "51588  0506225_sc-1023899.jpg         2      NaN       NaN     NaN   \n",
       "15939  0506226_sc-1023899.jpg         5      NaN       NaN     NaN   \n",
       "\n",
       "       total_anns ran_var dataset  \n",
       "57737         1.0     NaN    test  \n",
       "8097          1.0     NaN   train  \n",
       "5162          2.0     NaN   train  \n",
       "27605         1.0     NaN   train  \n",
       "60568         1.0     NaN     val  \n",
       "...           ...     ...     ...  \n",
       "26156         1.0     NaN   train  \n",
       "6733          2.0     NaN   train  \n",
       "59626         3.0     NaN    test  \n",
       "51588         2.0     NaN   train  \n",
       "15939         5.0     NaN   train  \n",
       "\n",
       "[67298 rows x 8 columns]"
      ]
     },
     "execution_count": 7,
     "metadata": {},
     "output_type": "execute_result"
    }
   ],
   "source": [
    "### (Damage_json) 정보로 csv 만들기 ###\n",
    "\n",
    "import warnings\n",
    "\n",
    "warnings.filterwarnings(action='ignore')\n",
    "\n",
    "df = pd.DataFrame(columns = list(damage_labeling.columns))\n",
    "\n",
    "\n",
    "for i in range(len(label_dam)):\n",
    "    with open(label_dam_dir + f'{label_dam[i]}') as file:\n",
    "        part = json.load(file)\n",
    "        file_name = part['images']['file_name']\n",
    "        \n",
    "        #print(len(part['annotations']))\n",
    "        \n",
    "        for j in range(len(part['annotations'])):\n",
    "            damage = part['annotations'][j]['damage']\n",
    "            if not damage is None:\n",
    "                if df.loc[df['index'] == file_name].empty:\n",
    "                    df = df.append(pd.DataFrame([[file_name,1]], columns=['index',damage]), ignore_index=True)\n",
    "                else:\n",
    "                    if df.loc[df['index'] == file_name, damage].values[0] >= 0:\n",
    "                        if df.loc[df['index'] == file_name].empty:\n",
    "                            df = df.append(pd.DataFrame([[file_name,1]], columns=['index',damage]), ignore_index=True)\n",
    "                        else:\n",
    "                            df.loc[df['index'] == file_name, damage] = df.loc[df['index'] == file_name, damage] + 1\n",
    "                    else:\n",
    "                        df.loc[df['index'] == file_name, damage] = 1\n",
    "                        \n",
    "df['total_anns'] = df.iloc[:,1:-3].sum(axis = 'columns')\n",
    "\n",
    "\n",
    "train = df.sample(frac = 0.8, random_state= 7)\n",
    "train['dataset'] = 'train'\n",
    "remain = df.drop(index = train.index)\n",
    "test = remain.sample(frac = 0.5, random_state= 7)\n",
    "test['dataset'] = 'test'\n",
    "val = remain.drop(index= test.index)\n",
    "val['dataset'] = 'val'\n",
    "\n",
    "df = pd.concat([train, test, val], ignore_index=True)\n",
    "df = df.sort_values(by = 'index')\n",
    "df.to_csv(\"damage_labeling.csv\", index = False)\n",
    "df"
   ]
  },
  {
   "cell_type": "code",
   "execution_count": null,
   "metadata": {},
   "outputs": [],
   "source": []
  }
 ],
 "metadata": {
  "kernelspec": {
   "display_name": "deep",
   "language": "python",
   "name": "python3"
  },
  "language_info": {
   "codemirror_mode": {
    "name": "ipython",
    "version": 3
   },
   "file_extension": ".py",
   "mimetype": "text/x-python",
   "name": "python",
   "nbconvert_exporter": "python",
   "pygments_lexer": "ipython3",
   "version": "3.7.0 (default, Jun 28 2018, 08:04:48) [MSC v.1912 64 bit (AMD64)]"
  },
  "orig_nbformat": 4,
  "vscode": {
   "interpreter": {
    "hash": "3bcade516a31772df401282903d78df2ec3803ffaa7dc98ac3d0b85bcc235db4"
   }
  }
 },
 "nbformat": 4,
 "nbformat_minor": 2
}
