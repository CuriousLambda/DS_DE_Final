{
 "cells": [
  {
   "cell_type": "code",
   "execution_count": 2,
   "metadata": {},
   "outputs": [],
   "source": [
    "import json\n",
    "with open('./bumper/train_front_bp/0000012_sc-182987.json', 'r') as f:\n",
    "        part = json.load(f)"
   ]
  },
  {
   "cell_type": "code",
   "execution_count": null,
   "metadata": {},
   "outputs": [],
   "source": [
    "import json\n",
    "with open('./bumper/train_front_bp/0000012_sc-182987.json', 'r') as f:\n",
    "        part = json.load(f)\n",
    "\n",
    "len(part['images'])\n",
    "\n",
    "\n",
    "from IPython.core.interactiveshell import InteractiveShell\n",
    "InteractiveShell.ast_node_interactivity = \"all\"\n",
    "\n",
    "from pycocotools.coco import COCO\n",
    "import matplotlib.pyplot as plt\n",
    "import cv2\n",
    "import numpy as np\n",
    "from PIL import Image\n",
    "\n",
    "part_json = './src/part_train.json'\n",
    "\n",
    "coco = COCO(part_json)\n",
    "\n",
    "img_ids = coco.getImgIds()\n",
    "\n",
    "\n",
    "for i in range(0, len(part['images'])):\n",
    "        image_id = int(img_ids[i])\n",
    "\n",
    "        image_infos = coco.loadImgs(image_id)[0]\n",
    "        width = image_infos['width']\n",
    "        height = image_infos['height']\n",
    "        \n",
    "\n",
    "        image_seg = coco.loadAnns(image_id)[0]['segmentation']\n",
    "        # print(len(image_seg[0][0]))\n",
    "\n",
    "        mask = np.zeros((width,height, 3),dtype = np.uint8)\n",
    "        cv2.fillPoly(mask,image_seg[0][0], (0,255,0))   \n",
    "        cv2.imwrite(f'{image_id}.png', mask)      "
   ]
  }
 ],
 "metadata": {
  "kernelspec": {
   "display_name": "Python 3",
   "language": "python",
   "name": "python3"
  },
  "language_info": {
   "codemirror_mode": {
    "name": "ipython",
    "version": 3
   },
   "file_extension": ".py",
   "mimetype": "text/x-python",
   "name": "python",
   "nbconvert_exporter": "python",
   "pygments_lexer": "ipython3",
   "version": "3.10.9 (tags/v3.10.9:1dd9be6, Dec  6 2022, 20:01:21) [MSC v.1934 64 bit (AMD64)]"
  },
  "orig_nbformat": 4,
  "vscode": {
   "interpreter": {
    "hash": "d86e5f3e65a370f4f0c7c6c157476db0f2576129ce19971a1015c727da11cca3"
   }
  }
 },
 "nbformat": 4,
 "nbformat_minor": 2
}
