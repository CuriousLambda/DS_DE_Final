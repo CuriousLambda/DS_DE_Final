{
 "cells": [
  {
   "cell_type": "code",
   "execution_count": 1,
   "metadata": {},
   "outputs": [],
   "source": [
    "from IPython.core.interactiveshell import InteractiveShell\n",
    "InteractiveShell.ast_node_interactivity = \"all\""
   ]
  },
  {
   "cell_type": "code",
   "execution_count": 2,
   "metadata": {},
   "outputs": [],
   "source": [
    "training_image_path = './1.Training/1.원천데이터/TS_damage/damage/'\n",
    "training_json_path = './1.Training/2.라벨링데이터/damage/'\n",
    "\n",
    "validation_image_path = './2.Validation/1.원천데이터/damage/'\n",
    "validation_json_path = './2.Validation/2.라벨링데이터/damage/'"
   ]
  },
  {
   "cell_type": "code",
   "execution_count": 3,
   "metadata": {},
   "outputs": [],
   "source": [
    "import os \n",
    "training_img_list = os.listdir(training_image_path)\n",
    "training_json_list = os.listdir(training_json_path)\n",
    "\n",
    "validation_img_list = os.listdir(validation_image_path)\n",
    "validation_json_list = os.listdir(validation_json_path)"
   ]
  },
  {
   "cell_type": "code",
   "execution_count": 4,
   "metadata": {},
   "outputs": [
    {
     "data": {
      "text/plain": [
       "402143"
      ]
     },
     "execution_count": 4,
     "metadata": {},
     "output_type": "execute_result"
    },
    {
     "data": {
      "text/plain": [
       "403559"
      ]
     },
     "execution_count": 4,
     "metadata": {},
     "output_type": "execute_result"
    },
    {
     "data": {
      "text/plain": [
       "50445"
      ]
     },
     "execution_count": 4,
     "metadata": {},
     "output_type": "execute_result"
    },
    {
     "data": {
      "text/plain": [
       "50445"
      ]
     },
     "execution_count": 4,
     "metadata": {},
     "output_type": "execute_result"
    }
   ],
   "source": [
    "## 각 사진의 개수\n",
    "len(training_img_list)\n",
    "len(training_json_list)\n",
    "\n",
    "len(validation_img_list)\n",
    "len(validation_json_list)"
   ]
  },
  {
   "cell_type": "code",
   "execution_count": 6,
   "metadata": {},
   "outputs": [
    {
     "name": "stdout",
     "output_type": "stream",
     "text": [
      "0000002_as-0036229.json\n",
      "0000002_as-0036229.jpg\n"
     ]
    }
   ],
   "source": [
    "import json\n",
    "with open (training_json_path+ training_json_list[0], \"r\") as f:\n",
    "    training_json_test = json.load(f)\n",
    "    print(training_json_list[0])\n",
    "    print(training_json_test['images']['file_name'])"
   ]
  },
  {
   "attachments": {},
   "cell_type": "markdown",
   "metadata": {},
   "source": [
    "### 파손 종류별로 분리"
   ]
  },
  {
   "cell_type": "code",
   "execution_count": 1,
   "metadata": {},
   "outputs": [],
   "source": [
    "### front bumper -> 4개 파손으로 분리\n",
    "import os \n",
    "training_front_bumper_image_path = './bumper/train_front_bp_img/'\n",
    "training_front_bumper_json_path = './bumper/train_front_bp_json/'\n",
    "\n",
    "training_front_bumper_img_list = os.listdir(training_front_bumper_image_path)\n",
    "training_front_bumper_json_list = os.listdir(training_front_bumper_json_path)"
   ]
  },
  {
   "cell_type": "code",
   "execution_count": 17,
   "metadata": {},
   "outputs": [],
   "source": [
    "# 읽어올 파일 : 현재는 front bumper를 읽어올 예정\n",
    "training_front_bumper_image_path = './bumper/train_front_bp_img/'\n",
    "training_front_bumper_json_path = './bumper/train_front_bp_json/'\n",
    "\n",
    "training_front_bumper_img_list = os.listdir(training_front_bumper_image_path)\n",
    "training_front_bumper_json_list = os.listdir(training_front_bumper_json_path)\n",
    "\n",
    "img_path = training_front_bumper_image_path\n",
    "json_path = training_front_bumper_json_path\n",
    "img_list = training_front_bumper_img_list\n",
    "json_list = training_front_bumper_json_list\n",
    "\n",
    "# 폴더 생성\n",
    "import os\n",
    "os.makedirs('./damage_species/Breakage/Breakage_img/',exist_ok=True)\n",
    "os.makedirs('./damage_species/Breakage/Breakage_json/',exist_ok=True)\n",
    "\n",
    "os.makedirs('./damage_species/Crushed/Crushed_img/',exist_ok=True)\n",
    "os.makedirs('./damage_species/Crushed/Crushed_json/',exist_ok=True)\n",
    "\n",
    "os.makedirs('./damage_species/Scratched/Scratched_img/',exist_ok=True)\n",
    "os.makedirs('./damage_species/Scratched/Scratched_json/',exist_ok=True)\n",
    "\n",
    "os.makedirs('./damage_species/Separated/Separated_img/',exist_ok=True)\n",
    "os.makedirs('./damage_species/Separated/Separated_json/',exist_ok=True)\n",
    "\n",
    "import os\n",
    "import json\n",
    "import shutil\n",
    "\n",
    "for i in range(10):\n",
    "    with open (json_path + json_list[i], \"r\") as f:\n",
    "        json_files = json.load(f)\n",
    "\n",
    "    # 손상 종류 : damage_species\n",
    "    damage_species = ['Breakage', 'Crushed', 'Scratched', 'Separated']\n",
    "    # 개별 json file에 손상 종류를 넣을 list : tmp_damage_species\n",
    "    tmp_damage_species = []\n",
    "\n",
    "    # 개별 json파일을 전부 읽어서 각 json파일에 손상 종류를 list로 넣고 중복 삭제\n",
    "    for j in json_files['annotations']:\n",
    "        tmp_damage_species.append(j['damage'])\n",
    "        new_tmp_damage_species = list(set(tmp_damage_species))\n",
    "\n",
    "    # 손상 종류가 존재하는 리스트 폴더에 손상 값이 존재할 경우 이미지 파일과 json파일 복사\n",
    "    for k in damage_species:\n",
    "        if k in new_tmp_damage_species:\n",
    "            # print(json_path+json_list[i])\n",
    "            # print('./damage_species/' + k + '/' + k + '_json/'+ json_list[i])\n",
    "            # print()\n",
    "            # print(img_path+img_list[i])\n",
    "            # print('./damage_species/' + k + '/' + k + '_img/'+ json_files['images']['file_name'])            \n",
    "            # print()\n",
    "            shutil.copyfile(json_path+json_list[i], './damage_species/' + k + '/' + k + '_img/'+ json_files['images']['file_name'])\n",
    "            shutil.copyfile(img_path+img_list[i], './damage_species/' + k + '/' + k + '_json/'+ json_list[i])\n"
   ]
  },
  {
   "cell_type": "code",
   "execution_count": 32,
   "metadata": {},
   "outputs": [],
   "source": [
    "# training_bumper_json_list[2]"
   ]
  },
  {
   "cell_type": "code",
   "execution_count": null,
   "metadata": {},
   "outputs": [],
   "source": []
  }
 ],
 "metadata": {
  "kernelspec": {
   "display_name": "Python 3",
   "language": "python",
   "name": "python3"
  },
  "language_info": {
   "codemirror_mode": {
    "name": "ipython",
    "version": 3
   },
   "file_extension": ".py",
   "mimetype": "text/x-python",
   "name": "python",
   "nbconvert_exporter": "python",
   "pygments_lexer": "ipython3",
   "version": "3.10.9"
  },
  "orig_nbformat": 4,
  "vscode": {
   "interpreter": {
    "hash": "d86e5f3e65a370f4f0c7c6c157476db0f2576129ce19971a1015c727da11cca3"
   }
  }
 },
 "nbformat": 4,
 "nbformat_minor": 2
}
