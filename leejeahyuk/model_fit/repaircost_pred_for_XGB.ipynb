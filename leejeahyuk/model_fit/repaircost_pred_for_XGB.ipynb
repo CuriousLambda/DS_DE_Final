{
 "cells": [
  {
   "attachments": {},
   "cell_type": "markdown",
   "metadata": {},
   "source": [
    "참고\n",
    "https://practicaldatascience.co.uk/machine-learning/how-to-tune-an-xgbregressor-model-with-optuna\n",
    "https://optuna.readthedocs.io/en/stable/reference/generated/optuna.trial.Trial.html#optuna.trial.Trial.suggest_float\n",
    "https://xgboost.readthedocs.io/en/stable/python/python_api.html"
   ]
  },
  {
   "cell_type": "code",
   "execution_count": 13,
   "metadata": {},
   "outputs": [],
   "source": [
    "from IPython.core.interactiveshell import InteractiveShell\n",
    "InteractiveShell.ast_node_interactivity=\"all\""
   ]
  },
  {
   "cell_type": "code",
   "execution_count": 14,
   "metadata": {},
   "outputs": [],
   "source": [
    "import numpy as np\n",
    "import pandas as pd\n",
    "import lightgbm as lgb\n",
    "import xgboost as xgb\n",
    "from catboost import CatBoostRegressor\n",
    "\n",
    "from sklearn.preprocessing import LabelEncoder\n",
    "from sklearn.model_selection import KFold\n",
    "from sklearn.metrics import mean_squared_error"
   ]
  },
  {
   "cell_type": "code",
   "execution_count": 15,
   "metadata": {},
   "outputs": [
    {
     "data": {
      "text/html": [
       "<div>\n",
       "<style scoped>\n",
       "    .dataframe tbody tr th:only-of-type {\n",
       "        vertical-align: middle;\n",
       "    }\n",
       "\n",
       "    .dataframe tbody tr th {\n",
       "        vertical-align: top;\n",
       "    }\n",
       "\n",
       "    .dataframe thead th {\n",
       "        text-align: right;\n",
       "    }\n",
       "</style>\n",
       "<table border=\"1\" class=\"dataframe\">\n",
       "  <thead>\n",
       "    <tr style=\"text-align: right;\">\n",
       "      <th></th>\n",
       "      <th>id</th>\n",
       "      <th>car_name</th>\n",
       "      <th>Breakage_3</th>\n",
       "      <th>Crushed_2</th>\n",
       "      <th>Scratch_0</th>\n",
       "      <th>Seperated_1</th>\n",
       "      <th>repair_cost</th>\n",
       "    </tr>\n",
       "  </thead>\n",
       "  <tbody>\n",
       "    <tr>\n",
       "      <th>0</th>\n",
       "      <td>sc-216666</td>\n",
       "      <td>올뉴모닝</td>\n",
       "      <td>0</td>\n",
       "      <td>1972</td>\n",
       "      <td>3771</td>\n",
       "      <td>0</td>\n",
       "      <td>83750</td>\n",
       "    </tr>\n",
       "    <tr>\n",
       "      <th>1</th>\n",
       "      <td>as-0056675</td>\n",
       "      <td>올뉴투싼</td>\n",
       "      <td>0</td>\n",
       "      <td>0</td>\n",
       "      <td>552</td>\n",
       "      <td>0</td>\n",
       "      <td>84320</td>\n",
       "    </tr>\n",
       "    <tr>\n",
       "      <th>2</th>\n",
       "      <td>sc-172370</td>\n",
       "      <td>아반떼AD</td>\n",
       "      <td>0</td>\n",
       "      <td>0</td>\n",
       "      <td>0</td>\n",
       "      <td>0</td>\n",
       "      <td>89280</td>\n",
       "    </tr>\n",
       "    <tr>\n",
       "      <th>3</th>\n",
       "      <td>sc-172370</td>\n",
       "      <td>아반떼AD</td>\n",
       "      <td>0</td>\n",
       "      <td>0</td>\n",
       "      <td>0</td>\n",
       "      <td>2278</td>\n",
       "      <td>89280</td>\n",
       "    </tr>\n",
       "    <tr>\n",
       "      <th>4</th>\n",
       "      <td>sc-172370</td>\n",
       "      <td>아반떼AD</td>\n",
       "      <td>9790</td>\n",
       "      <td>5</td>\n",
       "      <td>2689</td>\n",
       "      <td>3133</td>\n",
       "      <td>89280</td>\n",
       "    </tr>\n",
       "    <tr>\n",
       "      <th>...</th>\n",
       "      <td>...</td>\n",
       "      <td>...</td>\n",
       "      <td>...</td>\n",
       "      <td>...</td>\n",
       "      <td>...</td>\n",
       "      <td>...</td>\n",
       "      <td>...</td>\n",
       "    </tr>\n",
       "    <tr>\n",
       "      <th>57498</th>\n",
       "      <td>sc-1037200</td>\n",
       "      <td>아반떼</td>\n",
       "      <td>0</td>\n",
       "      <td>0</td>\n",
       "      <td>241</td>\n",
       "      <td>0</td>\n",
       "      <td>138580</td>\n",
       "    </tr>\n",
       "    <tr>\n",
       "      <th>57499</th>\n",
       "      <td>sc-1037200</td>\n",
       "      <td>아반떼</td>\n",
       "      <td>0</td>\n",
       "      <td>0</td>\n",
       "      <td>75</td>\n",
       "      <td>0</td>\n",
       "      <td>138580</td>\n",
       "    </tr>\n",
       "    <tr>\n",
       "      <th>57500</th>\n",
       "      <td>sc-1037200</td>\n",
       "      <td>아반떼</td>\n",
       "      <td>0</td>\n",
       "      <td>3020</td>\n",
       "      <td>318</td>\n",
       "      <td>607</td>\n",
       "      <td>138580</td>\n",
       "    </tr>\n",
       "    <tr>\n",
       "      <th>57501</th>\n",
       "      <td>sc-1023899</td>\n",
       "      <td>레이</td>\n",
       "      <td>561</td>\n",
       "      <td>0</td>\n",
       "      <td>2437</td>\n",
       "      <td>0</td>\n",
       "      <td>137500</td>\n",
       "    </tr>\n",
       "    <tr>\n",
       "      <th>57502</th>\n",
       "      <td>sc-1023899</td>\n",
       "      <td>레이</td>\n",
       "      <td>0</td>\n",
       "      <td>0</td>\n",
       "      <td>267</td>\n",
       "      <td>0</td>\n",
       "      <td>137500</td>\n",
       "    </tr>\n",
       "  </tbody>\n",
       "</table>\n",
       "<p>57503 rows × 7 columns</p>\n",
       "</div>"
      ],
      "text/plain": [
       "               id car_name  Breakage_3  Crushed_2  Scratch_0  Seperated_1  \\\n",
       "0       sc-216666     올뉴모닝           0       1972       3771            0   \n",
       "1      as-0056675     올뉴투싼           0          0        552            0   \n",
       "2       sc-172370    아반떼AD           0          0          0            0   \n",
       "3       sc-172370    아반떼AD           0          0          0         2278   \n",
       "4       sc-172370    아반떼AD        9790          5       2689         3133   \n",
       "...           ...      ...         ...        ...        ...          ...   \n",
       "57498  sc-1037200      아반떼           0          0        241            0   \n",
       "57499  sc-1037200      아반떼           0          0         75            0   \n",
       "57500  sc-1037200      아반떼           0       3020        318          607   \n",
       "57501  sc-1023899       레이         561          0       2437            0   \n",
       "57502  sc-1023899       레이           0          0        267            0   \n",
       "\n",
       "       repair_cost  \n",
       "0            83750  \n",
       "1            84320  \n",
       "2            89280  \n",
       "3            89280  \n",
       "4            89280  \n",
       "...            ...  \n",
       "57498       138580  \n",
       "57499       138580  \n",
       "57500       138580  \n",
       "57501       137500  \n",
       "57502       137500  \n",
       "\n",
       "[57503 rows x 7 columns]"
      ]
     },
     "execution_count": 15,
     "metadata": {},
     "output_type": "execute_result"
    }
   ],
   "source": [
    "test_df = pd.read_csv('./data/rear_bumper_df.csv')\n",
    "test_df"
   ]
  },
  {
   "cell_type": "code",
   "execution_count": 16,
   "metadata": {},
   "outputs": [],
   "source": [
    "train = pd.read_csv('./data/rear_bumper_df.csv')\n",
    "train = train.dropna(axis=0)\n",
    "train = train.reset_index(drop=True)\n",
    "TARGET = 'repair_cost'\n",
    "FEATURES = train.columns.difference([TARGET])"
   ]
  },
  {
   "cell_type": "code",
   "execution_count": 17,
   "metadata": {},
   "outputs": [
    {
     "data": {
      "text/html": [
       "<div>\n",
       "<style scoped>\n",
       "    .dataframe tbody tr th:only-of-type {\n",
       "        vertical-align: middle;\n",
       "    }\n",
       "\n",
       "    .dataframe tbody tr th {\n",
       "        vertical-align: top;\n",
       "    }\n",
       "\n",
       "    .dataframe thead th {\n",
       "        text-align: right;\n",
       "    }\n",
       "</style>\n",
       "<table border=\"1\" class=\"dataframe\">\n",
       "  <thead>\n",
       "    <tr style=\"text-align: right;\">\n",
       "      <th></th>\n",
       "      <th>id</th>\n",
       "      <th>car_name</th>\n",
       "      <th>Breakage_3</th>\n",
       "      <th>Crushed_2</th>\n",
       "      <th>Scratch_0</th>\n",
       "      <th>Seperated_1</th>\n",
       "      <th>repair_cost</th>\n",
       "    </tr>\n",
       "  </thead>\n",
       "  <tbody>\n",
       "    <tr>\n",
       "      <th>0</th>\n",
       "      <td>sc-216666</td>\n",
       "      <td>올뉴모닝</td>\n",
       "      <td>0</td>\n",
       "      <td>1972</td>\n",
       "      <td>3771</td>\n",
       "      <td>0</td>\n",
       "      <td>83750</td>\n",
       "    </tr>\n",
       "    <tr>\n",
       "      <th>1</th>\n",
       "      <td>as-0056675</td>\n",
       "      <td>올뉴투싼</td>\n",
       "      <td>0</td>\n",
       "      <td>0</td>\n",
       "      <td>552</td>\n",
       "      <td>0</td>\n",
       "      <td>84320</td>\n",
       "    </tr>\n",
       "    <tr>\n",
       "      <th>2</th>\n",
       "      <td>sc-172370</td>\n",
       "      <td>아반떼AD</td>\n",
       "      <td>0</td>\n",
       "      <td>0</td>\n",
       "      <td>0</td>\n",
       "      <td>0</td>\n",
       "      <td>89280</td>\n",
       "    </tr>\n",
       "    <tr>\n",
       "      <th>3</th>\n",
       "      <td>sc-172370</td>\n",
       "      <td>아반떼AD</td>\n",
       "      <td>0</td>\n",
       "      <td>0</td>\n",
       "      <td>0</td>\n",
       "      <td>2278</td>\n",
       "      <td>89280</td>\n",
       "    </tr>\n",
       "    <tr>\n",
       "      <th>4</th>\n",
       "      <td>sc-172370</td>\n",
       "      <td>아반떼AD</td>\n",
       "      <td>9790</td>\n",
       "      <td>5</td>\n",
       "      <td>2689</td>\n",
       "      <td>3133</td>\n",
       "      <td>89280</td>\n",
       "    </tr>\n",
       "    <tr>\n",
       "      <th>...</th>\n",
       "      <td>...</td>\n",
       "      <td>...</td>\n",
       "      <td>...</td>\n",
       "      <td>...</td>\n",
       "      <td>...</td>\n",
       "      <td>...</td>\n",
       "      <td>...</td>\n",
       "    </tr>\n",
       "    <tr>\n",
       "      <th>57496</th>\n",
       "      <td>sc-1037200</td>\n",
       "      <td>아반떼</td>\n",
       "      <td>0</td>\n",
       "      <td>0</td>\n",
       "      <td>241</td>\n",
       "      <td>0</td>\n",
       "      <td>138580</td>\n",
       "    </tr>\n",
       "    <tr>\n",
       "      <th>57497</th>\n",
       "      <td>sc-1037200</td>\n",
       "      <td>아반떼</td>\n",
       "      <td>0</td>\n",
       "      <td>0</td>\n",
       "      <td>75</td>\n",
       "      <td>0</td>\n",
       "      <td>138580</td>\n",
       "    </tr>\n",
       "    <tr>\n",
       "      <th>57498</th>\n",
       "      <td>sc-1037200</td>\n",
       "      <td>아반떼</td>\n",
       "      <td>0</td>\n",
       "      <td>3020</td>\n",
       "      <td>318</td>\n",
       "      <td>607</td>\n",
       "      <td>138580</td>\n",
       "    </tr>\n",
       "    <tr>\n",
       "      <th>57499</th>\n",
       "      <td>sc-1023899</td>\n",
       "      <td>레이</td>\n",
       "      <td>561</td>\n",
       "      <td>0</td>\n",
       "      <td>2437</td>\n",
       "      <td>0</td>\n",
       "      <td>137500</td>\n",
       "    </tr>\n",
       "    <tr>\n",
       "      <th>57500</th>\n",
       "      <td>sc-1023899</td>\n",
       "      <td>레이</td>\n",
       "      <td>0</td>\n",
       "      <td>0</td>\n",
       "      <td>267</td>\n",
       "      <td>0</td>\n",
       "      <td>137500</td>\n",
       "    </tr>\n",
       "  </tbody>\n",
       "</table>\n",
       "<p>57501 rows × 7 columns</p>\n",
       "</div>"
      ],
      "text/plain": [
       "               id car_name  Breakage_3  Crushed_2  Scratch_0  Seperated_1  \\\n",
       "0       sc-216666     올뉴모닝           0       1972       3771            0   \n",
       "1      as-0056675     올뉴투싼           0          0        552            0   \n",
       "2       sc-172370    아반떼AD           0          0          0            0   \n",
       "3       sc-172370    아반떼AD           0          0          0         2278   \n",
       "4       sc-172370    아반떼AD        9790          5       2689         3133   \n",
       "...           ...      ...         ...        ...        ...          ...   \n",
       "57496  sc-1037200      아반떼           0          0        241            0   \n",
       "57497  sc-1037200      아반떼           0          0         75            0   \n",
       "57498  sc-1037200      아반떼           0       3020        318          607   \n",
       "57499  sc-1023899       레이         561          0       2437            0   \n",
       "57500  sc-1023899       레이           0          0        267            0   \n",
       "\n",
       "       repair_cost  \n",
       "0            83750  \n",
       "1            84320  \n",
       "2            89280  \n",
       "3            89280  \n",
       "4            89280  \n",
       "...            ...  \n",
       "57496       138580  \n",
       "57497       138580  \n",
       "57498       138580  \n",
       "57499       137500  \n",
       "57500       137500  \n",
       "\n",
       "[57501 rows x 7 columns]"
      ]
     },
     "execution_count": 17,
     "metadata": {},
     "output_type": "execute_result"
    }
   ],
   "source": [
    "train"
   ]
  },
  {
   "cell_type": "code",
   "execution_count": 18,
   "metadata": {},
   "outputs": [],
   "source": [
    "for feature in ['id','car_name'] :\n",
    "    le = LabelEncoder()\n",
    "    train[feature] = le.fit_transform(train[feature])"
   ]
  },
  {
   "cell_type": "code",
   "execution_count": 19,
   "metadata": {},
   "outputs": [
    {
     "data": {
      "text/plain": [
       "18245"
      ]
     },
     "execution_count": 19,
     "metadata": {},
     "output_type": "execute_result"
    }
   ],
   "source": [
    "train['id'].max()"
   ]
  },
  {
   "cell_type": "code",
   "execution_count": 20,
   "metadata": {},
   "outputs": [],
   "source": [
    "# check corr\n",
    "# import matplotlib.pyplot as plt\n",
    "# import seaborn as sns\n",
    "# df_copy = train.copy()\n",
    "\n",
    "# #Correlation Analysis\n",
    "# plt.figure(figsize=(18,18))\n",
    "# sns.heatmap(df_copy.corr(), annot=True)\n",
    "# plt.title('Correlation Analysis')\n",
    "# plt.show()"
   ]
  },
  {
   "cell_type": "code",
   "execution_count": 21,
   "metadata": {},
   "outputs": [
    {
     "data": {
      "text/html": [
       "<div>\n",
       "<style scoped>\n",
       "    .dataframe tbody tr th:only-of-type {\n",
       "        vertical-align: middle;\n",
       "    }\n",
       "\n",
       "    .dataframe tbody tr th {\n",
       "        vertical-align: top;\n",
       "    }\n",
       "\n",
       "    .dataframe thead th {\n",
       "        text-align: right;\n",
       "    }\n",
       "</style>\n",
       "<table border=\"1\" class=\"dataframe\">\n",
       "  <thead>\n",
       "    <tr style=\"text-align: right;\">\n",
       "      <th></th>\n",
       "      <th>Breakage_3</th>\n",
       "      <th>Crushed_2</th>\n",
       "      <th>Scratch_0</th>\n",
       "      <th>Seperated_1</th>\n",
       "      <th>car_name</th>\n",
       "      <th>id</th>\n",
       "    </tr>\n",
       "  </thead>\n",
       "  <tbody>\n",
       "    <tr>\n",
       "      <th>53933</th>\n",
       "      <td>0</td>\n",
       "      <td>0</td>\n",
       "      <td>1066</td>\n",
       "      <td>0</td>\n",
       "      <td>192</td>\n",
       "      <td>12270</td>\n",
       "    </tr>\n",
       "    <tr>\n",
       "      <th>35286</th>\n",
       "      <td>284</td>\n",
       "      <td>3482</td>\n",
       "      <td>5</td>\n",
       "      <td>449</td>\n",
       "      <td>186</td>\n",
       "      <td>5916</td>\n",
       "    </tr>\n",
       "    <tr>\n",
       "      <th>50860</th>\n",
       "      <td>0</td>\n",
       "      <td>0</td>\n",
       "      <td>0</td>\n",
       "      <td>3618</td>\n",
       "      <td>218</td>\n",
       "      <td>1329</td>\n",
       "    </tr>\n",
       "    <tr>\n",
       "      <th>55270</th>\n",
       "      <td>76</td>\n",
       "      <td>1631</td>\n",
       "      <td>4458</td>\n",
       "      <td>9772</td>\n",
       "      <td>58</td>\n",
       "      <td>11001</td>\n",
       "    </tr>\n",
       "    <tr>\n",
       "      <th>11070</th>\n",
       "      <td>0</td>\n",
       "      <td>0</td>\n",
       "      <td>558</td>\n",
       "      <td>148</td>\n",
       "      <td>59</td>\n",
       "      <td>837</td>\n",
       "    </tr>\n",
       "    <tr>\n",
       "      <th>...</th>\n",
       "      <td>...</td>\n",
       "      <td>...</td>\n",
       "      <td>...</td>\n",
       "      <td>...</td>\n",
       "      <td>...</td>\n",
       "      <td>...</td>\n",
       "    </tr>\n",
       "    <tr>\n",
       "      <th>54343</th>\n",
       "      <td>0</td>\n",
       "      <td>2867</td>\n",
       "      <td>28</td>\n",
       "      <td>22</td>\n",
       "      <td>88</td>\n",
       "      <td>17704</td>\n",
       "    </tr>\n",
       "    <tr>\n",
       "      <th>38158</th>\n",
       "      <td>0</td>\n",
       "      <td>3516</td>\n",
       "      <td>4290</td>\n",
       "      <td>378</td>\n",
       "      <td>253</td>\n",
       "      <td>13345</td>\n",
       "    </tr>\n",
       "    <tr>\n",
       "      <th>860</th>\n",
       "      <td>0</td>\n",
       "      <td>590</td>\n",
       "      <td>1270</td>\n",
       "      <td>0</td>\n",
       "      <td>192</td>\n",
       "      <td>15355</td>\n",
       "    </tr>\n",
       "    <tr>\n",
       "      <th>15795</th>\n",
       "      <td>0</td>\n",
       "      <td>5511</td>\n",
       "      <td>73</td>\n",
       "      <td>1508</td>\n",
       "      <td>214</td>\n",
       "      <td>2027</td>\n",
       "    </tr>\n",
       "    <tr>\n",
       "      <th>56422</th>\n",
       "      <td>0</td>\n",
       "      <td>0</td>\n",
       "      <td>1041</td>\n",
       "      <td>0</td>\n",
       "      <td>192</td>\n",
       "      <td>17386</td>\n",
       "    </tr>\n",
       "  </tbody>\n",
       "</table>\n",
       "<p>40250 rows × 6 columns</p>\n",
       "</div>"
      ],
      "text/plain": [
       "       Breakage_3  Crushed_2  Scratch_0  Seperated_1  car_name     id\n",
       "53933           0          0       1066            0       192  12270\n",
       "35286         284       3482          5          449       186   5916\n",
       "50860           0          0          0         3618       218   1329\n",
       "55270          76       1631       4458         9772        58  11001\n",
       "11070           0          0        558          148        59    837\n",
       "...           ...        ...        ...          ...       ...    ...\n",
       "54343           0       2867         28           22        88  17704\n",
       "38158           0       3516       4290          378       253  13345\n",
       "860             0        590       1270            0       192  15355\n",
       "15795           0       5511         73         1508       214   2027\n",
       "56422           0          0       1041            0       192  17386\n",
       "\n",
       "[40250 rows x 6 columns]"
      ]
     },
     "execution_count": 21,
     "metadata": {},
     "output_type": "execute_result"
    }
   ],
   "source": [
    "from sklearn.preprocessing import StandardScaler\n",
    "from sklearn.model_selection import train_test_split\n",
    "\n",
    "X_train, X_test, y_train, y_test = train_test_split(train[FEATURES], train[TARGET], test_size=0.3, random_state=42)\n",
    "\n",
    "X_train\n",
    "\n",
    "scaler = StandardScaler()\n",
    "X_train = scaler.fit_transform(X_train)\n",
    "X_test = scaler.transform(X_test)"
   ]
  },
  {
   "cell_type": "code",
   "execution_count": 53,
   "metadata": {},
   "outputs": [
    {
     "name": "stderr",
     "output_type": "stream",
     "text": [
      "\u001b[32m[I 2023-01-25 13:52:27,401]\u001b[0m A new study created in memory with name: regression\u001b[0m\n",
      "\u001b[32m[I 2023-01-25 13:52:28,109]\u001b[0m Trial 0 finished with value: 3096034687.3911285 and parameters: {'max_depth': 4, 'learning_rate': 0.22476675053402115, 'n_estimators': 138, 'min_child_weight': 7, 'gamma': 0.3940737006595624, 'subsample': 0.8997509068605473, 'colsample_bytree': 0.1522930230775918, 'reg_alpha': 0.22885848164193023, 'reg_lambda': 0.6722952019590545, 'random_state': 527}. Best is trial 0 with value: 3096034687.3911285.\u001b[0m\n",
      "\u001b[32m[I 2023-01-25 13:52:31,023]\u001b[0m Trial 1 finished with value: 2553395836.2634745 and parameters: {'max_depth': 3, 'learning_rate': 0.07930349185566776, 'n_estimators': 632, 'min_child_weight': 10, 'gamma': 0.9843748760281986, 'subsample': 0.9442616871636202, 'colsample_bytree': 0.5296164525600527, 'reg_alpha': 0.2693344020043925, 'reg_lambda': 0.1695645524616851, 'random_state': 496}. Best is trial 1 with value: 2553395836.2634745.\u001b[0m\n",
      "\u001b[32m[I 2023-01-25 13:52:31,557]\u001b[0m Trial 2 finished with value: 1803139331.7788396 and parameters: {'max_depth': 8, 'learning_rate': 0.340053037009703, 'n_estimators': 78, 'min_child_weight': 2, 'gamma': 0.8800333336390929, 'subsample': 0.8421839809443415, 'colsample_bytree': 0.20173918956349032, 'reg_alpha': 0.8272114107567906, 'reg_lambda': 0.06561183464774666, 'random_state': 362}. Best is trial 2 with value: 1803139331.7788396.\u001b[0m\n",
      "\u001b[32m[I 2023-01-25 13:52:33,273]\u001b[0m Trial 3 finished with value: 1575879085.3788185 and parameters: {'max_depth': 9, 'learning_rate': 0.6970459043258541, 'n_estimators': 233, 'min_child_weight': 6, 'gamma': 0.7278403206198372, 'subsample': 0.7347016776846074, 'colsample_bytree': 0.12988902038956035, 'reg_alpha': 0.4465250129579704, 'reg_lambda': 0.6792576816631422, 'random_state': 326}. Best is trial 3 with value: 1575879085.3788185.\u001b[0m\n",
      "\u001b[32m[I 2023-01-25 13:52:35,753]\u001b[0m Trial 4 finished with value: 2963390695.1595263 and parameters: {'max_depth': 5, 'learning_rate': 0.5144994878743847, 'n_estimators': 499, 'min_child_weight': 9, 'gamma': 0.9846185415019509, 'subsample': 0.21112581658057628, 'colsample_bytree': 0.6682810611616095, 'reg_alpha': 0.5034143567634685, 'reg_lambda': 0.36284224303864016, 'random_state': 866}. Best is trial 3 with value: 1575879085.3788185.\u001b[0m\n",
      "\u001b[32m[I 2023-01-25 13:52:36,922]\u001b[0m Trial 5 finished with value: 2299631830.8002415 and parameters: {'max_depth': 4, 'learning_rate': 0.381660906767805, 'n_estimators': 274, 'min_child_weight': 1, 'gamma': 0.5884236310679991, 'subsample': 0.23831645739342014, 'colsample_bytree': 0.7855301594142959, 'reg_alpha': 0.37939163488318467, 'reg_lambda': 0.6648485719803564, 'random_state': 444}. Best is trial 3 with value: 1575879085.3788185.\u001b[0m\n",
      "\u001b[32m[I 2023-01-25 13:52:38,954]\u001b[0m Trial 6 finished with value: 2308257720.2448106 and parameters: {'max_depth': 3, 'learning_rate': 0.4456995675208029, 'n_estimators': 559, 'min_child_weight': 7, 'gamma': 0.32821378222688163, 'subsample': 0.7055870367400814, 'colsample_bytree': 0.06049898240582145, 'reg_alpha': 0.14473472158527995, 'reg_lambda': 0.8783317801011675, 'random_state': 301}. Best is trial 3 with value: 1575879085.3788185.\u001b[0m\n",
      "\u001b[32m[I 2023-01-25 13:52:40,172]\u001b[0m Trial 7 finished with value: 1916830518.2778845 and parameters: {'max_depth': 5, 'learning_rate': 0.6899028118529711, 'n_estimators': 174, 'min_child_weight': 10, 'gamma': 0.5604841207657315, 'subsample': 0.6554220018417916, 'colsample_bytree': 0.9558480400947404, 'reg_alpha': 0.07876145342905475, 'reg_lambda': 0.5183859134633191, 'random_state': 779}. Best is trial 3 with value: 1575879085.3788185.\u001b[0m\n",
      "\u001b[32m[I 2023-01-25 13:52:42,699]\u001b[0m Trial 8 finished with value: 1559778596.8686492 and parameters: {'max_depth': 7, 'learning_rate': 0.22612245021538538, 'n_estimators': 284, 'min_child_weight': 5, 'gamma': 0.8767427797786335, 'subsample': 0.5749149918422821, 'colsample_bytree': 0.6801373751352645, 'reg_alpha': 0.8433640874009684, 'reg_lambda': 0.34286001392245824, 'random_state': 788}. Best is trial 8 with value: 1559778596.8686492.\u001b[0m\n",
      "\u001b[32m[I 2023-01-25 13:52:43,501]\u001b[0m Trial 9 finished with value: 5502151435.436697 and parameters: {'max_depth': 1, 'learning_rate': 0.13645232418277234, 'n_estimators': 315, 'min_child_weight': 6, 'gamma': 0.4705570776453436, 'subsample': 0.7921314465588297, 'colsample_bytree': 0.07846903480823249, 'reg_alpha': 0.3734559220389973, 'reg_lambda': 0.1791976587588583, 'random_state': 918}. Best is trial 8 with value: 1559778596.8686492.\u001b[0m\n",
      "\u001b[32m[I 2023-01-25 13:52:50,604]\u001b[0m Trial 10 finished with value: 6961596475.309937 and parameters: {'max_depth': 7, 'learning_rate': 0.9912904290240792, 'n_estimators': 999, 'min_child_weight': 3, 'gamma': 0.08735404515442136, 'subsample': 0.4423419039040295, 'colsample_bytree': 0.3485622464048692, 'reg_alpha': 0.9979215942826526, 'reg_lambda': 0.3682203137069003, 'random_state': 16}. Best is trial 8 with value: 1559778596.8686492.\u001b[0m\n",
      "\u001b[32m[I 2023-01-25 13:52:54,539]\u001b[0m Trial 11 finished with value: 2939448981.425266 and parameters: {'max_depth': 10, 'learning_rate': 0.738235589368926, 'n_estimators': 387, 'min_child_weight': 4, 'gamma': 0.7406662175246059, 'subsample': 0.47489674660606357, 'colsample_bytree': 0.4067931097910373, 'reg_alpha': 0.705944803383276, 'reg_lambda': 0.9119875828156453, 'random_state': 668}. Best is trial 8 with value: 1559778596.8686492.\u001b[0m\n",
      "\u001b[32m[I 2023-01-25 13:53:03,258]\u001b[0m Trial 12 finished with value: 2245167613.600853 and parameters: {'max_depth': 10, 'learning_rate': 0.6489795890257355, 'n_estimators': 729, 'min_child_weight': 5, 'gamma': 0.7482136676268868, 'subsample': 0.5814126253081286, 'colsample_bytree': 0.631155059441572, 'reg_alpha': 0.6238989301480352, 'reg_lambda': 0.6162774226488827, 'random_state': 162}. Best is trial 8 with value: 1559778596.8686492.\u001b[0m\n",
      "\u001b[32m[I 2023-01-25 13:53:06,609]\u001b[0m Trial 13 finished with value: 13935733691.851755 and parameters: {'max_depth': 8, 'learning_rate': 0.8923028150218819, 'n_estimators': 384, 'min_child_weight': 5, 'gamma': 0.7490845570934285, 'subsample': 0.3338907197614399, 'colsample_bytree': 0.8909521652399426, 'reg_alpha': 0.9948541722000978, 'reg_lambda': 0.3946605624542917, 'random_state': 667}. Best is trial 8 with value: 1559778596.8686492.\u001b[0m\n",
      "\u001b[32m[I 2023-01-25 13:53:07,798]\u001b[0m Trial 14 finished with value: 3600930755.736475 and parameters: {'max_depth': 8, 'learning_rate': 0.25151918960667646, 'n_estimators': 249, 'min_child_weight': 8, 'gamma': 0.8425378682215692, 'subsample': 0.05215746763474677, 'colsample_bytree': 0.2938247011330199, 'reg_alpha': 0.5500049776235834, 'reg_lambda': 0.7703858141701942, 'random_state': 225}. Best is trial 8 with value: 1559778596.8686492.\u001b[0m\n",
      "\u001b[32m[I 2023-01-25 13:53:11,269]\u001b[0m Trial 15 finished with value: 1570969250.482528 and parameters: {'max_depth': 7, 'learning_rate': 0.5790829338546023, 'n_estimators': 408, 'min_child_weight': 4, 'gamma': 0.6676767985231078, 'subsample': 0.6972821438486593, 'colsample_bytree': 0.5082695289247989, 'reg_alpha': 0.7956207958597079, 'reg_lambda': 0.48310627418712343, 'random_state': 627}. Best is trial 8 with value: 1559778596.8686492.\u001b[0m\n",
      "\u001b[32m[I 2023-01-25 13:53:17,147]\u001b[0m Trial 16 finished with value: 1629343257.960359 and parameters: {'max_depth': 6, 'learning_rate': 0.5463262932825942, 'n_estimators': 774, 'min_child_weight': 3, 'gamma': 0.632182425779399, 'subsample': 0.5720303087877457, 'colsample_bytree': 0.511788800009378, 'reg_alpha': 0.8054323272854581, 'reg_lambda': 0.48842341056176053, 'random_state': 674}. Best is trial 8 with value: 1559778596.8686492.\u001b[0m\n",
      "\u001b[32m[I 2023-01-25 13:53:22,389]\u001b[0m Trial 17 finished with value: 1991037028.1558123 and parameters: {'max_depth': 7, 'learning_rate': 0.035163747494506736, 'n_estimators': 457, 'min_child_weight': 4, 'gamma': 0.2334522491332422, 'subsample': 0.36974293264745073, 'colsample_bytree': 0.7118893394575385, 'reg_alpha': 0.8454616474203603, 'reg_lambda': 0.26534093112150914, 'random_state': 803}. Best is trial 8 with value: 1559778596.8686492.\u001b[0m\n",
      "\u001b[32m[I 2023-01-25 13:53:26,943]\u001b[0m Trial 18 finished with value: 1470405384.7854364 and parameters: {'max_depth': 6, 'learning_rate': 0.24845078082725694, 'n_estimators': 389, 'min_child_weight': 4, 'gamma': 0.8951077407876575, 'subsample': 0.5737270276903608, 'colsample_bytree': 0.8177614282648462, 'reg_alpha': 0.7011758792529668, 'reg_lambda': 0.5146225517635203, 'random_state': 960}. Best is trial 18 with value: 1470405384.7854364.\u001b[0m\n",
      "\u001b[32m[I 2023-01-25 13:53:33,843]\u001b[0m Trial 19 finished with value: 1232162348.383478 and parameters: {'max_depth': 6, 'learning_rate': 0.20710602779134113, 'n_estimators': 598, 'min_child_weight': 1, 'gamma': 0.895766588817169, 'subsample': 0.6163005736842316, 'colsample_bytree': 0.8290696664380717, 'reg_alpha': 0.6708625230929044, 'reg_lambda': 0.029217038311029453, 'random_state': 968}. Best is trial 19 with value: 1232162348.383478.\u001b[0m\n",
      "\u001b[32m[I 2023-01-25 13:53:37,450]\u001b[0m Trial 20 finished with value: 4373844424.4500475 and parameters: {'max_depth': 1, 'learning_rate': 0.3255535779617872, 'n_estimators': 887, 'min_child_weight': 1, 'gamma': 0.8683457328619081, 'subsample': 0.3593654690850573, 'colsample_bytree': 0.837155909627539, 'reg_alpha': 0.6538741315724733, 'reg_lambda': 0.16806228562813466, 'random_state': 951}. Best is trial 19 with value: 1232162348.383478.\u001b[0m\n",
      "\u001b[32m[I 2023-01-25 13:53:44,382]\u001b[0m Trial 21 finished with value: 1324679931.3026745 and parameters: {'max_depth': 6, 'learning_rate': 0.18586435552103514, 'n_estimators': 588, 'min_child_weight': 2, 'gamma': 0.9055796016285624, 'subsample': 0.5811599273739659, 'colsample_bytree': 0.7852118981907376, 'reg_alpha': 0.7088348796270081, 'reg_lambda': 0.015704005847805375, 'random_state': 996}. Best is trial 19 with value: 1232162348.383478.\u001b[0m\n",
      "\u001b[32m[I 2023-01-25 13:53:51,877]\u001b[0m Trial 22 finished with value: 1288767242.7796052 and parameters: {'max_depth': 6, 'learning_rate': 0.13867316450122086, 'n_estimators': 617, 'min_child_weight': 2, 'gamma': 0.9996409610542283, 'subsample': 0.6152097806491634, 'colsample_bytree': 0.9543972520820042, 'reg_alpha': 0.723301100547814, 'reg_lambda': 0.010227582801520984, 'random_state': 996}. Best is trial 19 with value: 1232162348.383478.\u001b[0m\n",
      "\u001b[32m[I 2023-01-25 13:53:59,305]\u001b[0m Trial 23 finished with value: 1369850110.6203375 and parameters: {'max_depth': 6, 'learning_rate': 0.09399391103477438, 'n_estimators': 630, 'min_child_weight': 2, 'gamma': 0.9843665887701379, 'subsample': 0.49443471780953674, 'colsample_bytree': 0.9565113431471162, 'reg_alpha': 0.5822500091606178, 'reg_lambda': 0.01896681205971148, 'random_state': 980}. Best is trial 19 with value: 1232162348.383478.\u001b[0m\n",
      "\u001b[32m[I 2023-01-25 13:54:04,639]\u001b[0m Trial 24 finished with value: 1418157359.1107538 and parameters: {'max_depth': 4, 'learning_rate': 0.1721360468621285, 'n_estimators': 606, 'min_child_weight': 2, 'gamma': 0.9359945845058415, 'subsample': 0.6482228340744155, 'colsample_bytree': 0.9776555925784244, 'reg_alpha': 0.7314707406933043, 'reg_lambda': 0.07174183132467798, 'random_state': 887}. Best is trial 19 with value: 1232162348.383478.\u001b[0m\n",
      "\u001b[32m[I 2023-01-25 13:54:11,811]\u001b[0m Trial 25 finished with value: 2407833168.9001637 and parameters: {'max_depth': 5, 'learning_rate': 0.015136540214600896, 'n_estimators': 705, 'min_child_weight': 1, 'gamma': 0.8180735337120113, 'subsample': 0.7753418112232554, 'colsample_bytree': 0.7505161741281846, 'reg_alpha': 0.9013364674459483, 'reg_lambda': 0.11061574938901415, 'random_state': 1000}. Best is trial 19 with value: 1232162348.383478.\u001b[0m\n",
      "\u001b[32m[I 2023-01-25 13:54:16,852]\u001b[0m Trial 26 finished with value: 1377121164.7575653 and parameters: {'max_depth': 6, 'learning_rate': 0.4077793685632606, 'n_estimators': 559, 'min_child_weight': 3, 'gamma': 0.7914406947545405, 'subsample': 0.6300836935384264, 'colsample_bytree': 0.871069085318984, 'reg_alpha': 0.7344577916368986, 'reg_lambda': 0.23733110889338363, 'random_state': 843}. Best is trial 19 with value: 1232162348.383478.\u001b[0m\n",
      "\u001b[32m[I 2023-01-25 13:54:20,280]\u001b[0m Trial 27 finished with value: 1893009647.4479892 and parameters: {'max_depth': 3, 'learning_rate': 0.1519296720103313, 'n_estimators': 810, 'min_child_weight': 2, 'gamma': 0.9357812365742455, 'subsample': 0.4280863139766831, 'colsample_bytree': 0.5877227903279888, 'reg_alpha': 0.5025795391692344, 'reg_lambda': 0.020682827262711128, 'random_state': 722}. Best is trial 19 with value: 1232162348.383478.\u001b[0m\n",
      "\u001b[32m[I 2023-01-25 13:54:25,085]\u001b[0m Trial 28 finished with value: 1090835003.2245593 and parameters: {'max_depth': 5, 'learning_rate': 0.2973642607674169, 'n_estimators': 662, 'min_child_weight': 1, 'gamma': 0.4980281344834323, 'subsample': 0.839274890668833, 'colsample_bytree': 0.8878226461643193, 'reg_alpha': 0.6250567058442404, 'reg_lambda': 0.11707996570334768, 'random_state': 876}. Best is trial 28 with value: 1090835003.2245593.\u001b[0m\n",
      "\u001b[32m[I 2023-01-25 13:54:29,275]\u001b[0m Trial 29 finished with value: 1200360150.9971924 and parameters: {'max_depth': 4, 'learning_rate': 0.3182360639645627, 'n_estimators': 704, 'min_child_weight': 1, 'gamma': 0.4443128712995412, 'subsample': 0.9804919846537056, 'colsample_bytree': 0.9048273589966653, 'reg_alpha': 0.6353269641889476, 'reg_lambda': 0.2692116609141517, 'random_state': 590}. Best is trial 28 with value: 1090835003.2245593.\u001b[0m\n",
      "\u001b[32m[I 2023-01-25 13:54:32,547]\u001b[0m Trial 30 finished with value: 1565496753.0179865 and parameters: {'max_depth': 2, 'learning_rate': 0.3502946371887239, 'n_estimators': 868, 'min_child_weight': 1, 'gamma': 0.39541608691659264, 'subsample': 0.9856612279517158, 'colsample_bytree': 0.8779329344167691, 'reg_alpha': 0.6145428105648305, 'reg_lambda': 0.27384964610981904, 'random_state': 508}. Best is trial 28 with value: 1090835003.2245593.\u001b[0m\n",
      "\u001b[32m[I 2023-01-25 13:54:36,527]\u001b[0m Trial 31 finished with value: 1280293458.296206 and parameters: {'max_depth': 4, 'learning_rate': 0.2965143950446423, 'n_estimators': 679, 'min_child_weight': 1, 'gamma': 0.4515841569452604, 'subsample': 0.8507680175440584, 'colsample_bytree': 0.9213215323727483, 'reg_alpha': 0.6483773956438859, 'reg_lambda': 0.12892238627434313, 'random_state': 878}. Best is trial 28 with value: 1090835003.2245593.\u001b[0m\n",
      "\u001b[32m[I 2023-01-25 13:54:40,728]\u001b[0m Trial 32 finished with value: 1300901566.6452649 and parameters: {'max_depth': 4, 'learning_rate': 0.2743203616706782, 'n_estimators': 717, 'min_child_weight': 1, 'gamma': 0.4947370234893466, 'subsample': 0.9107476653309206, 'colsample_bytree': 0.9053731031414076, 'reg_alpha': 0.4408124124249427, 'reg_lambda': 0.12775071711599129, 'random_state': 747}. Best is trial 28 with value: 1090835003.2245593.\u001b[0m\n",
      "\u001b[32m[I 2023-01-25 13:54:43,837]\u001b[0m Trial 33 finished with value: 1301611443.0776384 and parameters: {'max_depth': 3, 'learning_rate': 0.4430729637411664, 'n_estimators': 657, 'min_child_weight': 1, 'gamma': 0.4063133945494775, 'subsample': 0.8531533062430023, 'colsample_bytree': 0.9982709392444868, 'reg_alpha': 0.6604894790505712, 'reg_lambda': 0.2075783562557714, 'random_state': 566}. Best is trial 28 with value: 1090835003.2245593.\u001b[0m\n",
      "\u001b[32m[I 2023-01-25 13:54:47,141]\u001b[0m Trial 34 finished with value: 1273589842.141666 and parameters: {'max_depth': 5, 'learning_rate': 0.2831428591470664, 'n_estimators': 494, 'min_child_weight': 3, 'gamma': 0.32067869223534984, 'subsample': 0.9954362818039798, 'colsample_bytree': 0.7304059028058079, 'reg_alpha': 0.5458878599965403, 'reg_lambda': 0.10698770352786569, 'random_state': 845}. Best is trial 28 with value: 1090835003.2245593.\u001b[0m\n",
      "\u001b[32m[I 2023-01-25 13:54:50,539]\u001b[0m Trial 35 finished with value: 1101249897.0267062 and parameters: {'max_depth': 5, 'learning_rate': 0.4823277027992325, 'n_estimators': 517, 'min_child_weight': 3, 'gamma': 0.29153953594701165, 'subsample': 0.9971976888760781, 'colsample_bytree': 0.7636171048303853, 'reg_alpha': 0.5478648506646329, 'reg_lambda': 0.3143130947787627, 'random_state': 409}. Best is trial 28 with value: 1090835003.2245593.\u001b[0m\n",
      "\u001b[32m[I 2023-01-25 13:54:55,282]\u001b[0m Trial 36 finished with value: 1171386803.9812036 and parameters: {'max_depth': 5, 'learning_rate': 0.41119367148079955, 'n_estimators': 767, 'min_child_weight': 2, 'gamma': 0.1784588552608941, 'subsample': 0.9110078955197498, 'colsample_bytree': 0.6122135430152238, 'reg_alpha': 0.34098290909403345, 'reg_lambda': 0.3111709936675373, 'random_state': 382}. Best is trial 28 with value: 1090835003.2245593.\u001b[0m\n",
      "\u001b[32m[I 2023-01-25 13:54:57,999]\u001b[0m Trial 37 finished with value: 1609033507.305115 and parameters: {'max_depth': 2, 'learning_rate': 0.46774153016641845, 'n_estimators': 781, 'min_child_weight': 2, 'gamma': 0.16994068362700485, 'subsample': 0.9308692907014277, 'colsample_bytree': 0.5699874004639371, 'reg_alpha': 0.3196505102932512, 'reg_lambda': 0.31909688370197287, 'random_state': 413}. Best is trial 28 with value: 1090835003.2245593.\u001b[0m\n",
      "\u001b[32m[I 2023-01-25 13:55:02,702]\u001b[0m Trial 38 finished with value: 1197296507.9816167 and parameters: {'max_depth': 4, 'learning_rate': 0.49940397694868327, 'n_estimators': 846, 'min_child_weight': 3, 'gamma': 0.29457211829358276, 'subsample': 0.8762694333587642, 'colsample_bytree': 0.7699815198124413, 'reg_alpha': 0.4614829317775319, 'reg_lambda': 0.29117680136023205, 'random_state': 435}. Best is trial 28 with value: 1090835003.2245593.\u001b[0m\n",
      "\u001b[32m[I 2023-01-25 13:55:08,111]\u001b[0m Trial 39 finished with value: 1385810576.4130735 and parameters: {'max_depth': 5, 'learning_rate': 0.5886445538422067, 'n_estimators': 960, 'min_child_weight': 3, 'gamma': 0.2625571201957241, 'subsample': 0.8947750848909863, 'colsample_bytree': 0.43635721244251746, 'reg_alpha': 0.24986992675166397, 'reg_lambda': 0.4340293852708946, 'random_state': 441}. Best is trial 28 with value: 1090835003.2245593.\u001b[0m\n",
      "\u001b[32m[I 2023-01-25 13:55:12,589]\u001b[0m Trial 40 finished with value: 1333437484.4495444 and parameters: {'max_depth': 4, 'learning_rate': 0.5042870527554394, 'n_estimators': 864, 'min_child_weight': 3, 'gamma': 0.010761334135991757, 'subsample': 0.7745570039110911, 'colsample_bytree': 0.6363519645304264, 'reg_alpha': 0.45948519842750346, 'reg_lambda': 0.5768246279743153, 'random_state': 362}. Best is trial 28 with value: 1090835003.2245593.\u001b[0m\n",
      "\u001b[32m[I 2023-01-25 13:55:17,221]\u001b[0m Trial 41 finished with value: 1127239588.8932235 and parameters: {'max_depth': 4, 'learning_rate': 0.39791419484804896, 'n_estimators': 834, 'min_child_weight': 2, 'gamma': 0.3417380301744548, 'subsample': 0.9548620508780241, 'colsample_bytree': 0.7956494054986862, 'reg_alpha': 0.38493961734221704, 'reg_lambda': 0.2793371585116196, 'random_state': 282}. Best is trial 28 with value: 1090835003.2245593.\u001b[0m\n",
      "\u001b[32m[I 2023-01-25 13:55:23,313]\u001b[0m Trial 42 finished with value: 1104800172.707704 and parameters: {'max_depth': 5, 'learning_rate': 0.38815078402979686, 'n_estimators': 916, 'min_child_weight': 2, 'gamma': 0.31735724300040496, 'subsample': 0.88487755068285, 'colsample_bytree': 0.7643556054804979, 'reg_alpha': 0.320401061937104, 'reg_lambda': 0.3151831096897938, 'random_state': 270}. Best is trial 28 with value: 1090835003.2245593.\u001b[0m\n",
      "\u001b[32m[I 2023-01-25 13:55:28,993]\u001b[0m Trial 43 finished with value: 1162816170.697503 and parameters: {'max_depth': 5, 'learning_rate': 0.3971551164584813, 'n_estimators': 928, 'min_child_weight': 2, 'gamma': 0.36095531280481574, 'subsample': 0.8117163060350565, 'colsample_bytree': 0.6644435069144435, 'reg_alpha': 0.16863199055431743, 'reg_lambda': 0.4236853088627785, 'random_state': 267}. Best is trial 28 with value: 1090835003.2245593.\u001b[0m\n",
      "\u001b[32m[I 2023-01-25 13:55:35,157]\u001b[0m Trial 44 finished with value: 1202375013.4302092 and parameters: {'max_depth': 5, 'learning_rate': 0.3578872724647547, 'n_estimators': 920, 'min_child_weight': 2, 'gamma': 0.35325105859533595, 'subsample': 0.7886693699002755, 'colsample_bytree': 0.6822144141468708, 'reg_alpha': 0.18338909422157965, 'reg_lambda': 0.39919498142693527, 'random_state': 275}. Best is trial 28 with value: 1090835003.2245593.\u001b[0m\n",
      "\u001b[32m[I 2023-01-25 13:55:39,689]\u001b[0m Trial 45 finished with value: 1521238862.074771 and parameters: {'max_depth': 3, 'learning_rate': 0.3974111285379738, 'n_estimators': 924, 'min_child_weight': 7, 'gamma': 0.546676474086808, 'subsample': 0.8217578382602407, 'colsample_bytree': 0.6951660203605793, 'reg_alpha': 0.057571876928601495, 'reg_lambda': 0.44082729630811246, 'random_state': 139}. Best is trial 28 with value: 1090835003.2245593.\u001b[0m\n",
      "\u001b[32m[I 2023-01-25 13:55:46,400]\u001b[0m Trial 46 finished with value: 1122612201.1348581 and parameters: {'max_depth': 5, 'learning_rate': 0.45061950289822783, 'n_estimators': 990, 'min_child_weight': 2, 'gamma': 0.36861044350822536, 'subsample': 0.9430526008941431, 'colsample_bytree': 0.801751930070145, 'reg_alpha': 0.12883520875026008, 'reg_lambda': 0.21529196743340226, 'random_state': 250}. Best is trial 28 with value: 1090835003.2245593.\u001b[0m\n",
      "\u001b[32m[I 2023-01-25 13:55:50,012]\u001b[0m Trial 47 finished with value: 1589411190.807853 and parameters: {'max_depth': 2, 'learning_rate': 0.45883582834834175, 'n_estimators': 992, 'min_child_weight': 4, 'gamma': 0.20905538437264, 'subsample': 0.9612287580027536, 'colsample_bytree': 0.8151021739049584, 'reg_alpha': 0.2973515351070241, 'reg_lambda': 0.20463651041323933, 'random_state': 205}. Best is trial 28 with value: 1090835003.2245593.\u001b[0m\n",
      "\u001b[32m[I 2023-01-25 13:55:55,442]\u001b[0m Trial 48 finished with value: 1603843342.9740891 and parameters: {'max_depth': 5, 'learning_rate': 0.6551506412489272, 'n_estimators': 829, 'min_child_weight': 9, 'gamma': 0.12308469261852614, 'subsample': 0.7348316518768667, 'colsample_bytree': 0.7378949743896789, 'reg_alpha': 0.10406913845846186, 'reg_lambda': 0.3514373873578288, 'random_state': 75}. Best is trial 28 with value: 1090835003.2245593.\u001b[0m\n",
      "\u001b[32m[I 2023-01-25 13:56:00,098]\u001b[0m Trial 49 finished with value: 1241838250.340523 and parameters: {'max_depth': 3, 'learning_rate': 0.7897383753609215, 'n_estimators': 964, 'min_child_weight': 3, 'gamma': 0.2910181868856841, 'subsample': 0.9516105872920962, 'colsample_bytree': 0.8620575971234171, 'reg_alpha': 0.396407021277261, 'reg_lambda': 0.17091004278199085, 'random_state': 361}. Best is trial 28 with value: 1090835003.2245593.\u001b[0m\n",
      "\u001b[32m[I 2023-01-25 13:56:04,882]\u001b[0m Trial 50 finished with value: 1361180592.3992167 and parameters: {'max_depth': 7, 'learning_rate': 0.5472023495567541, 'n_estimators': 540, 'min_child_weight': 6, 'gamma': 0.5308437911016933, 'subsample': 0.87943566698252, 'colsample_bytree': 0.7853527157439548, 'reg_alpha': 0.21356890776811172, 'reg_lambda': 0.23190482184987488, 'random_state': 311}. Best is trial 28 with value: 1090835003.2245593.\u001b[0m\n",
      "\u001b[32m[I 2023-01-25 13:56:11,035]\u001b[0m Trial 51 finished with value: 1135236024.6398883 and parameters: {'max_depth': 5, 'learning_rate': 0.3728980322659187, 'n_estimators': 930, 'min_child_weight': 2, 'gamma': 0.36389857655368557, 'subsample': 0.812865778351035, 'colsample_bytree': 0.6694429420230438, 'reg_alpha': 0.15459870975865708, 'reg_lambda': 0.3865019002390406, 'random_state': 257}. Best is trial 28 with value: 1090835003.2245593.\u001b[0m\n",
      "\u001b[32m[I 2023-01-25 13:56:16,051]\u001b[0m Trial 52 finished with value: 1154250115.673353 and parameters: {'max_depth': 4, 'learning_rate': 0.3656754044479391, 'n_estimators': 896, 'min_child_weight': 2, 'gamma': 0.4313209651281932, 'subsample': 0.9342166460151515, 'colsample_bytree': 0.8058662904293133, 'reg_alpha': 0.14247237522268194, 'reg_lambda': 0.3659557530418369, 'random_state': 198}. Best is trial 28 with value: 1090835003.2245593.\u001b[0m\n",
      "\u001b[32m[I 2023-01-25 13:56:22,710]\u001b[0m Trial 53 finished with value: 1235804893.2863297 and parameters: {'max_depth': 5, 'learning_rate': 0.4379493320867047, 'n_estimators': 993, 'min_child_weight': 1, 'gamma': 0.3566503718107153, 'subsample': 0.7302051733172863, 'colsample_bytree': 0.7424355592930314, 'reg_alpha': 0.09757849745890772, 'reg_lambda': 0.3360175287365899, 'random_state': 261}. Best is trial 28 with value: 1090835003.2245593.\u001b[0m\n",
      "\u001b[32m[I 2023-01-25 13:56:23,562]\u001b[0m Trial 54 finished with value: 1478892494.7464545 and parameters: {'max_depth': 5, 'learning_rate': 0.48788621331222026, 'n_estimators': 114, 'min_child_weight': 3, 'gamma': 0.4971366669637118, 'subsample': 0.8416855060441992, 'colsample_bytree': 0.8503264668186152, 'reg_alpha': 0.02357376693609485, 'reg_lambda': 0.23081984933743838, 'random_state': 133}. Best is trial 28 with value: 1090835003.2245593.\u001b[0m\n",
      "\u001b[32m[I 2023-01-25 13:56:30,522]\u001b[0m Trial 55 finished with value: 1248574270.9270394 and parameters: {'max_depth': 6, 'learning_rate': 0.5397920787130597, 'n_estimators': 953, 'min_child_weight': 2, 'gamma': 0.24475996211691017, 'subsample': 0.9442859958552313, 'colsample_bytree': 0.5640567137183014, 'reg_alpha': 0.2857857300005284, 'reg_lambda': 0.15377141584923965, 'random_state': 482}. Best is trial 28 with value: 1090835003.2245593.\u001b[0m\n",
      "\u001b[32m[I 2023-01-25 13:56:33,623]\u001b[0m Trial 56 finished with value: 2273424991.3717 and parameters: {'max_depth': 4, 'learning_rate': 0.2337154009250218, 'n_estimators': 804, 'min_child_weight': 4, 'gamma': 0.5956785481134064, 'subsample': 0.18108194579089032, 'colsample_bytree': 0.4698306625835597, 'reg_alpha': 0.38110566574500143, 'reg_lambda': 0.4698890604586836, 'random_state': 328}. Best is trial 28 with value: 1090835003.2245593.\u001b[0m\n",
      "\u001b[32m[I 2023-01-25 13:56:40,023]\u001b[0m Trial 57 finished with value: 1266119522.1439433 and parameters: {'max_depth': 6, 'learning_rate': 0.3034318567737313, 'n_estimators': 892, 'min_child_weight': 5, 'gamma': 0.2969687692294337, 'subsample': 0.873111000433698, 'colsample_bytree': 0.6521042005575326, 'reg_alpha': 0.20913623174322066, 'reg_lambda': 0.9929471829447216, 'random_state': 225}. Best is trial 28 with value: 1090835003.2245593.\u001b[0m\n",
      "\u001b[32m[I 2023-01-25 13:56:45,183]\u001b[0m Trial 58 finished with value: 1041721042.9201382 and parameters: {'max_depth': 8, 'learning_rate': 0.34060520356231117, 'n_estimators': 490, 'min_child_weight': 2, 'gamma': 0.3911795586626796, 'subsample': 0.9935363045588602, 'colsample_bytree': 0.7010768007200523, 'reg_alpha': 0.1337496563434406, 'reg_lambda': 0.38274068159698993, 'random_state': 92}. Best is trial 58 with value: 1041721042.9201382.\u001b[0m\n",
      "\u001b[32m[I 2023-01-25 13:56:48,357]\u001b[0m Trial 59 finished with value: 1470403796.7199478 and parameters: {'max_depth': 8, 'learning_rate': 0.618689995363924, 'n_estimators': 468, 'min_child_weight': 1, 'gamma': 0.42017717963776224, 'subsample': 0.9635609338405684, 'colsample_bytree': 0.02382069163907652, 'reg_alpha': 0.5254177351964775, 'reg_lambda': 0.06612527000368856, 'random_state': 30}. Best is trial 58 with value: 1041721042.9201382.\u001b[0m\n",
      "\u001b[32m[I 2023-01-25 13:56:51,428]\u001b[0m Trial 60 finished with value: 1418476769.336802 and parameters: {'max_depth': 7, 'learning_rate': 0.41958543539149895, 'n_estimators': 510, 'min_child_weight': 3, 'gamma': 0.4789603712257845, 'subsample': 0.9991822601003943, 'colsample_bytree': 0.17312456382463398, 'reg_alpha': 0.5907802297887653, 'reg_lambda': 0.3087006624319459, 'random_state': 46}. Best is trial 58 with value: 1041721042.9201382.\u001b[0m\n",
      "\u001b[32m[I 2023-01-25 13:56:55,867]\u001b[0m Trial 61 finished with value: 1020271381.5466431 and parameters: {'max_depth': 10, 'learning_rate': 0.3392399103867465, 'n_estimators': 346, 'min_child_weight': 2, 'gamma': 0.36621893993467053, 'subsample': 0.9197668878684491, 'colsample_bytree': 0.7173043516280317, 'reg_alpha': 0.1414262158385431, 'reg_lambda': 0.3823425941748802, 'random_state': 171}. Best is trial 61 with value: 1020271381.5466431.\u001b[0m\n",
      "\u001b[32m[I 2023-01-25 13:56:59,853]\u001b[0m Trial 62 finished with value: 1099248901.9266937 and parameters: {'max_depth': 9, 'learning_rate': 0.26483670442596813, 'n_estimators': 348, 'min_child_weight': 2, 'gamma': 0.38813360608114533, 'subsample': 0.914706318573666, 'colsample_bytree': 0.7163717399370755, 'reg_alpha': 0.2442109677303964, 'reg_lambda': 0.2554931088862724, 'random_state': 168}. Best is trial 61 with value: 1020271381.5466431.\u001b[0m\n",
      "\u001b[32m[I 2023-01-25 13:57:03,888]\u001b[0m Trial 63 finished with value: 1169358533.013683 and parameters: {'max_depth': 9, 'learning_rate': 0.331313034125139, 'n_estimators': 348, 'min_child_weight': 2, 'gamma': 0.39103850761452486, 'subsample': 0.9136820769200688, 'colsample_bytree': 0.715057955464732, 'reg_alpha': 0.25219894036725354, 'reg_lambda': 0.20935630041642783, 'random_state': 104}. Best is trial 61 with value: 1020271381.5466431.\u001b[0m\n",
      "\u001b[32m[I 2023-01-25 13:57:06,461]\u001b[0m Trial 64 finished with value: 1088701133.920287 and parameters: {'max_depth': 9, 'learning_rate': 0.19548175658893094, 'n_estimators': 224, 'min_child_weight': 1, 'gamma': 0.3164264416145652, 'subsample': 0.9203627485864148, 'colsample_bytree': 0.7644510188078114, 'reg_alpha': 0.12106543838129419, 'reg_lambda': 0.24276527209561893, 'random_state': 87}. Best is trial 61 with value: 1020271381.5466431.\u001b[0m\n",
      "\u001b[32m[I 2023-01-25 13:57:08,527]\u001b[0m Trial 65 finished with value: 1271907756.6171513 and parameters: {'max_depth': 9, 'learning_rate': 0.10919872306910966, 'n_estimators': 196, 'min_child_weight': 1, 'gamma': 0.2765947871818586, 'subsample': 0.889609061029687, 'colsample_bytree': 0.6114456162594402, 'reg_alpha': 0.06671077614554127, 'reg_lambda': 0.5749994704079593, 'random_state': 2}. Best is trial 61 with value: 1020271381.5466431.\u001b[0m\n",
      "\u001b[32m[I 2023-01-25 13:57:12,508]\u001b[0m Trial 66 finished with value: 1036739381.1779541 and parameters: {'max_depth': 10, 'learning_rate': 0.20462270277442896, 'n_estimators': 300, 'min_child_weight': 1, 'gamma': 0.31462857098375163, 'subsample': 0.8530644704802486, 'colsample_bytree': 0.7624497166042775, 'reg_alpha': 0.20642596634078336, 'reg_lambda': 0.4044931200125097, 'random_state': 172}. Best is trial 61 with value: 1020271381.5466431.\u001b[0m\n",
      "\u001b[32m[I 2023-01-25 13:57:16,609]\u001b[0m Trial 67 finished with value: 1023218077.9044876 and parameters: {'max_depth': 10, 'learning_rate': 0.1922331752515487, 'n_estimators': 318, 'min_child_weight': 1, 'gamma': 0.21568918569170847, 'subsample': 0.8540602127883202, 'colsample_bytree': 0.7163461093314011, 'reg_alpha': 0.02113713405474553, 'reg_lambda': 0.395715311696082, 'random_state': 169}. Best is trial 61 with value: 1020271381.5466431.\u001b[0m\n",
      "\u001b[32m[I 2023-01-25 13:57:20,622]\u001b[0m Trial 68 finished with value: 1074750763.3169863 and parameters: {'max_depth': 10, 'learning_rate': 0.19923112026281978, 'n_estimators': 315, 'min_child_weight': 1, 'gamma': 0.20875167534714897, 'subsample': 0.8401116076439858, 'colsample_bytree': 0.7066819692226765, 'reg_alpha': 0.01002327309215656, 'reg_lambda': 0.5465203930589835, 'random_state': 166}. Best is trial 61 with value: 1020271381.5466431.\u001b[0m\n",
      "\u001b[32m[I 2023-01-25 13:57:24,497]\u001b[0m Trial 69 finished with value: 1228665684.9486504 and parameters: {'max_depth': 10, 'learning_rate': 0.19656728298840553, 'n_estimators': 284, 'min_child_weight': 1, 'gamma': 0.21839657433022053, 'subsample': 0.6827783955440685, 'colsample_bytree': 0.839562803911071, 'reg_alpha': 0.012254964326477978, 'reg_lambda': 0.7080510200119781, 'random_state': 88}. Best is trial 61 with value: 1020271381.5466431.\u001b[0m\n",
      "\u001b[32m[I 2023-01-25 13:57:28,003]\u001b[0m Trial 70 finished with value: 1156644597.79853 and parameters: {'max_depth': 10, 'learning_rate': 0.07705612512474508, 'n_estimators': 254, 'min_child_weight': 1, 'gamma': 0.1420282172266336, 'subsample': 0.8320839160875405, 'colsample_bytree': 0.936879350036541, 'reg_alpha': 0.030635438100081878, 'reg_lambda': 0.5801210647132486, 'random_state': 177}. Best is trial 61 with value: 1020271381.5466431.\u001b[0m\n",
      "\u001b[32m[I 2023-01-25 13:57:31,724]\u001b[0m Trial 71 finished with value: 1148273385.6181386 and parameters: {'max_depth': 9, 'learning_rate': 0.22832413792145043, 'n_estimators': 330, 'min_child_weight': 1, 'gamma': 0.46822143967554813, 'subsample': 0.7624699740792923, 'colsample_bytree': 0.7056226254319318, 'reg_alpha': 0.05307536962505478, 'reg_lambda': 0.5344219583184573, 'random_state': 140}. Best is trial 61 with value: 1020271381.5466431.\u001b[0m\n",
      "\u001b[32m[I 2023-01-25 13:57:33,369]\u001b[0m Trial 72 finished with value: 1311829195.220435 and parameters: {'max_depth': 10, 'learning_rate': 0.2626404703288656, 'n_estimators': 212, 'min_child_weight': 1, 'gamma': 0.2455381630715965, 'subsample': 0.866138630102342, 'colsample_bytree': 0.30830510638986697, 'reg_alpha': 0.12088716215180505, 'reg_lambda': 0.4753398264844327, 'random_state': 58}. Best is trial 61 with value: 1020271381.5466431.\u001b[0m\n",
      "\u001b[32m[I 2023-01-25 13:57:37,295]\u001b[0m Trial 73 finished with value: 1156550198.8470774 and parameters: {'max_depth': 9, 'learning_rate': 0.1547168461486294, 'n_estimators': 356, 'min_child_weight': 1, 'gamma': 0.06299691014147193, 'subsample': 0.7442076457257873, 'colsample_bytree': 0.7159389967893693, 'reg_alpha': 0.08144638414038016, 'reg_lambda': 0.40332867222492674, 'random_state': 113}. Best is trial 61 with value: 1020271381.5466431.\u001b[0m\n",
      "\u001b[32m[I 2023-01-25 13:57:42,048]\u001b[0m Trial 74 finished with value: 1031009752.3903854 and parameters: {'max_depth': 10, 'learning_rate': 0.2061848202108285, 'n_estimators': 411, 'min_child_weight': 1, 'gamma': 0.2050641204137687, 'subsample': 0.9124298029658452, 'colsample_bytree': 0.6268445932155968, 'reg_alpha': 0.20574124266695765, 'reg_lambda': 0.5476153872643625, 'random_state': 168}. Best is trial 61 with value: 1020271381.5466431.\u001b[0m\n",
      "\u001b[32m[I 2023-01-25 13:57:47,229]\u001b[0m Trial 75 finished with value: 1023001786.629011 and parameters: {'max_depth': 10, 'learning_rate': 0.21025907475595523, 'n_estimators': 444, 'min_child_weight': 1, 'gamma': 0.19475831912898212, 'subsample': 0.8022531364930877, 'colsample_bytree': 0.6485058343229569, 'reg_alpha': 0.1867631228822833, 'reg_lambda': 0.6443302542295656, 'random_state': 224}. Best is trial 61 with value: 1020271381.5466431.\u001b[0m\n",
      "\u001b[32m[I 2023-01-25 13:57:51,816]\u001b[0m Trial 76 finished with value: 1201629590.004219 and parameters: {'max_depth': 10, 'learning_rate': 0.0607973031403439, 'n_estimators': 402, 'min_child_weight': 1, 'gamma': 0.20335614896505394, 'subsample': 0.8081830091471027, 'colsample_bytree': 0.6242448069990417, 'reg_alpha': 0.17864383591124405, 'reg_lambda': 0.6125671097461491, 'random_state': 225}. Best is trial 61 with value: 1020271381.5466431.\u001b[0m\n",
      "\u001b[32m[I 2023-01-25 13:57:56,812]\u001b[0m Trial 77 finished with value: 1012081010.1362501 and parameters: {'max_depth': 10, 'learning_rate': 0.17246536629803247, 'n_estimators': 432, 'min_child_weight': 1, 'gamma': 0.14993736700644988, 'subsample': 0.9222770199924929, 'colsample_bytree': 0.6477515706912205, 'reg_alpha': 0.1992277152133767, 'reg_lambda': 0.6646213541161352, 'random_state': 188}. Best is trial 77 with value: 1012081010.1362501.\u001b[0m\n",
      "\u001b[32m[I 2023-01-25 13:58:01,854]\u001b[0m Trial 78 finished with value: 1062783487.0496022 and parameters: {'max_depth': 10, 'learning_rate': 0.11483514318283075, 'n_estimators': 438, 'min_child_weight': 1, 'gamma': 0.1725086409425339, 'subsample': 0.8592541902047969, 'colsample_bytree': 0.5850819766302136, 'reg_alpha': 0.2011595244700485, 'reg_lambda': 0.6925495401151823, 'random_state': 187}. Best is trial 77 with value: 1012081010.1362501.\u001b[0m\n",
      "\u001b[32m[I 2023-01-25 13:58:06,860]\u001b[0m Trial 79 finished with value: 1039192875.2520894 and parameters: {'max_depth': 10, 'learning_rate': 0.11594401400638928, 'n_estimators': 432, 'min_child_weight': 1, 'gamma': 0.10922546724138817, 'subsample': 0.9634743560027152, 'colsample_bytree': 0.5288084115829195, 'reg_alpha': 0.19542666454872823, 'reg_lambda': 0.7160037496758853, 'random_state': 196}. Best is trial 77 with value: 1012081010.1362501.\u001b[0m\n",
      "\u001b[32m[I 2023-01-25 13:58:11,641]\u001b[0m Trial 80 finished with value: 924405856.1195315 and parameters: {'max_depth': 10, 'learning_rate': 0.16407638550902337, 'n_estimators': 417, 'min_child_weight': 1, 'gamma': 0.07691296612173734, 'subsample': 0.9790885421941999, 'colsample_bytree': 0.5082188996877985, 'reg_alpha': 0.22584159955674005, 'reg_lambda': 0.7487868406002102, 'random_state': 125}. Best is trial 80 with value: 924405856.1195315.\u001b[0m\n",
      "\u001b[32m[I 2023-01-25 13:58:16,540]\u001b[0m Trial 81 finished with value: 1025500568.4988921 and parameters: {'max_depth': 10, 'learning_rate': 0.15684309242987887, 'n_estimators': 426, 'min_child_weight': 1, 'gamma': 0.0687797503388218, 'subsample': 0.9739110659675815, 'colsample_bytree': 0.5399251627042387, 'reg_alpha': 0.23002369867726727, 'reg_lambda': 0.7720621109995454, 'random_state': 135}. Best is trial 80 with value: 924405856.1195315.\u001b[0m\n",
      "\u001b[32m[I 2023-01-25 13:58:21,518]\u001b[0m Trial 82 finished with value: 1065118478.7548561 and parameters: {'max_depth': 10, 'learning_rate': 0.12677061150308355, 'n_estimators': 428, 'min_child_weight': 1, 'gamma': 0.06323123565501457, 'subsample': 0.9731356889569073, 'colsample_bytree': 0.5387739259641329, 'reg_alpha': 0.2255926901130026, 'reg_lambda': 0.7789064922591608, 'random_state': 132}. Best is trial 80 with value: 924405856.1195315.\u001b[0m\n",
      "\u001b[32m[I 2023-01-25 13:58:25,897]\u001b[0m Trial 83 finished with value: 1137679124.7314892 and parameters: {'max_depth': 10, 'learning_rate': 0.1679746319062507, 'n_estimators': 429, 'min_child_weight': 1, 'gamma': 0.1215400937100988, 'subsample': 0.9002767199393993, 'colsample_bytree': 0.47279115990186615, 'reg_alpha': 0.27579071007581263, 'reg_lambda': 0.7365964560930366, 'random_state': 206}. Best is trial 80 with value: 924405856.1195315.\u001b[0m\n",
      "\u001b[32m[I 2023-01-25 13:58:30,560]\u001b[0m Trial 84 finished with value: 1202966777.071189 and parameters: {'max_depth': 10, 'learning_rate': 0.05059378040519791, 'n_estimators': 376, 'min_child_weight': 1, 'gamma': 0.09232142089383057, 'subsample': 0.9352829445430801, 'colsample_bytree': 0.5342487457825283, 'reg_alpha': 0.18448935023897498, 'reg_lambda': 0.8190435425950641, 'random_state': 236}. Best is trial 80 with value: 924405856.1195315.\u001b[0m\n",
      "\u001b[32m[I 2023-01-25 13:58:33,376]\u001b[0m Trial 85 finished with value: 1185624669.1260834 and parameters: {'max_depth': 9, 'learning_rate': 0.14285578674443053, 'n_estimators': 295, 'min_child_weight': 1, 'gamma': 0.03159933933758538, 'subsample': 0.9623816627515775, 'colsample_bytree': 0.3801114997773912, 'reg_alpha': 0.2329469195229228, 'reg_lambda': 0.6585610664528639, 'random_state': 151}. Best is trial 80 with value: 924405856.1195315.\u001b[0m\n",
      "\u001b[32m[I 2023-01-25 13:58:38,668]\u001b[0m Trial 86 finished with value: 1068602461.7994473 and parameters: {'max_depth': 10, 'learning_rate': 0.08696318616006181, 'n_estimators': 460, 'min_child_weight': 1, 'gamma': 0.14697337490616105, 'subsample': 0.8980179376487838, 'colsample_bytree': 0.5075704606742194, 'reg_alpha': 0.3518812988341925, 'reg_lambda': 0.6449979702979861, 'random_state': 119}. Best is trial 80 with value: 924405856.1195315.\u001b[0m\n",
      "\u001b[32m[I 2023-01-25 13:58:42,041]\u001b[0m Trial 87 finished with value: 1306390408.204257 and parameters: {'max_depth': 9, 'learning_rate': 0.22736398712333997, 'n_estimators': 379, 'min_child_weight': 1, 'gamma': 0.10438516487539687, 'subsample': 0.5210285156435226, 'colsample_bytree': 0.4826280379731079, 'reg_alpha': 0.20006603642372506, 'reg_lambda': 0.8500703018534361, 'random_state': 186}. Best is trial 80 with value: 924405856.1195315.\u001b[0m\n",
      "\u001b[32m[I 2023-01-25 13:58:47,473]\u001b[0m Trial 88 finished with value: 1026214239.0230969 and parameters: {'max_depth': 10, 'learning_rate': 0.17269328866354494, 'n_estimators': 480, 'min_child_weight': 2, 'gamma': 0.07012629486765576, 'subsample': 0.9742417550477175, 'colsample_bytree': 0.5487993485104415, 'reg_alpha': 0.16593840653127354, 'reg_lambda': 0.7434482437533344, 'random_state': 299}. Best is trial 80 with value: 924405856.1195315.\u001b[0m\n",
      "\u001b[32m[I 2023-01-25 13:58:53,885]\u001b[0m Trial 89 finished with value: 1039609808.2480497 and parameters: {'max_depth': 10, 'learning_rate': 0.18245180106444514, 'n_estimators': 565, 'min_child_weight': 2, 'gamma': 0.06530524711276334, 'subsample': 0.8008778443053077, 'colsample_bytree': 0.6015087835219888, 'reg_alpha': 0.15765832701419466, 'reg_lambda': 0.7653115890428901, 'random_state': 312}. Best is trial 80 with value: 924405856.1195315.\u001b[0m\n",
      "\u001b[32m[I 2023-01-25 13:58:59,354]\u001b[0m Trial 90 finished with value: 1055981528.3665541 and parameters: {'max_depth': 10, 'learning_rate': 0.1603189735212886, 'n_estimators': 473, 'min_child_weight': 2, 'gamma': 0.14612032441995526, 'subsample': 0.927025722292757, 'colsample_bytree': 0.5543250533798783, 'reg_alpha': 0.266776162227376, 'reg_lambda': 0.8050041688012607, 'random_state': 161}. Best is trial 80 with value: 924405856.1195315.\u001b[0m\n",
      "\u001b[32m[I 2023-01-25 13:59:03,938]\u001b[0m Trial 91 finished with value: 1521607467.0288815 and parameters: {'max_depth': 10, 'learning_rate': 0.01894275263317574, 'n_estimators': 411, 'min_child_weight': 1, 'gamma': 0.07551440675256346, 'subsample': 0.9626155433459546, 'colsample_bytree': 0.43792894143904526, 'reg_alpha': 0.30902728438889115, 'reg_lambda': 0.727885160557901, 'random_state': 226}. Best is trial 80 with value: 924405856.1195315.\u001b[0m\n",
      "\u001b[32m[I 2023-01-25 13:59:09,192]\u001b[0m Trial 92 finished with value: 994713843.55715 and parameters: {'max_depth': 10, 'learning_rate': 0.21346518322494368, 'n_estimators': 436, 'min_child_weight': 1, 'gamma': 0.043271832724976714, 'subsample': 0.9787227774097691, 'colsample_bytree': 0.652553843068305, 'reg_alpha': 0.10272953494061757, 'reg_lambda': 0.680357328303062, 'random_state': 202}. Best is trial 80 with value: 924405856.1195315.\u001b[0m\n",
      "\u001b[32m[I 2023-01-25 13:59:14,636]\u001b[0m Trial 93 finished with value: 1033621252.994357 and parameters: {'max_depth': 9, 'learning_rate': 0.2160657457017714, 'n_estimators': 538, 'min_child_weight': 1, 'gamma': 0.0344719791186943, 'subsample': 0.9820773153705208, 'colsample_bytree': 0.6481934691736387, 'reg_alpha': 0.10471197356146786, 'reg_lambda': 0.6355390457779082, 'random_state': 288}. Best is trial 80 with value: 924405856.1195315.\u001b[0m\n",
      "\u001b[32m[I 2023-01-25 13:59:19,831]\u001b[0m Trial 94 finished with value: 1051723153.3442733 and parameters: {'max_depth': 9, 'learning_rate': 0.2195572537940309, 'n_estimators': 490, 'min_child_weight': 2, 'gamma': 0.02375979968014138, 'subsample': 0.9759580037586859, 'colsample_bytree': 0.6374286024383419, 'reg_alpha': 0.09506717155716443, 'reg_lambda': 0.6239668122523244, 'random_state': 284}. Best is trial 80 with value: 924405856.1195315.\u001b[0m\n",
      "\u001b[32m[I 2023-01-25 13:59:22,517]\u001b[0m Trial 95 finished with value: 8252157467.873995 and parameters: {'max_depth': 9, 'learning_rate': 0.24387815192411455, 'n_estimators': 400, 'min_child_weight': 10, 'gamma': 0.033143395889154915, 'subsample': 0.018073724613658693, 'colsample_bytree': 0.6559645010543718, 'reg_alpha': 0.16057741513706408, 'reg_lambda': 0.6798042438202311, 'random_state': 333}. Best is trial 80 with value: 924405856.1195315.\u001b[0m\n",
      "\u001b[32m[I 2023-01-25 13:59:30,407]\u001b[0m Trial 96 finished with value: 1037413154.9871446 and parameters: {'max_depth': 10, 'learning_rate': 0.2866643750729616, 'n_estimators': 444, 'min_child_weight': 2, 'gamma': 0.04542853665707075, 'subsample': 0.9386264658540393, 'colsample_bytree': 0.5783680609812988, 'reg_alpha': 0.05013782573836073, 'reg_lambda': 0.6456632317855577, 'random_state': 69}. Best is trial 80 with value: 924405856.1195315.\u001b[0m\n",
      "\u001b[32m[I 2023-01-25 13:59:40,528]\u001b[0m Trial 97 finished with value: 931933283.8687216 and parameters: {'max_depth': 10, 'learning_rate': 0.1736738598820939, 'n_estimators': 581, 'min_child_weight': 1, 'gamma': 0.19147056788258765, 'subsample': 0.9795337259364268, 'colsample_bytree': 0.6059986713056338, 'reg_alpha': 0.08437990749628126, 'reg_lambda': 0.7523157735688044, 'random_state': 294}. Best is trial 80 with value: 924405856.1195315.\u001b[0m\n",
      "\u001b[32m[I 2023-01-25 13:59:47,164]\u001b[0m Trial 98 finished with value: 1038960190.203855 and parameters: {'max_depth': 10, 'learning_rate': 0.14424657250448286, 'n_estimators': 370, 'min_child_weight': 2, 'gamma': 0.18799460769383244, 'subsample': 0.9026624493227668, 'colsample_bytree': 0.5927713427030674, 'reg_alpha': 0.1373193372855743, 'reg_lambda': 0.7520737542066304, 'random_state': 218}. Best is trial 80 with value: 924405856.1195315.\u001b[0m\n",
      "\u001b[32m[I 2023-01-25 13:59:55,301]\u001b[0m Trial 99 finished with value: 2115885142.7293282 and parameters: {'max_depth': 10, 'learning_rate': 0.17174800426512346, 'n_estimators': 574, 'min_child_weight': 8, 'gamma': 0.16258050320419715, 'subsample': 0.25764641906139896, 'colsample_bytree': 0.6848212063445979, 'reg_alpha': 0.04361567344266906, 'reg_lambda': 0.7888419896746623, 'random_state': 246}. Best is trial 80 with value: 924405856.1195315.\u001b[0m\n"
     ]
    }
   ],
   "source": [
    "import optuna\n",
    "import xgboost\n",
    "\n",
    "def objective(trial):\n",
    "    param = {\n",
    "        'max_depth': trial.suggest_int('max_depth', 1, 10),\n",
    "        'learning_rate': trial.suggest_float('learning_rate', 0.01, 1.0),\n",
    "        'n_estimators': trial.suggest_int('n_estimators', 50, 1000),\n",
    "        'min_child_weight': trial.suggest_int('min_child_weight', 1, 10),\n",
    "        'gamma': trial.suggest_float('gamma', 0.01, 1.0),\n",
    "        'subsample': trial.suggest_float('subsample', 0.01, 1.0),\n",
    "        'colsample_bytree': trial.suggest_float('colsample_bytree', 0.01, 1.0),\n",
    "        'reg_alpha': trial.suggest_float('reg_alpha', 0.01, 1.0),\n",
    "        'reg_lambda': trial.suggest_float('reg_lambda', 0.01, 1.0),\n",
    "        'random_state': trial.suggest_int('random_state', 1, 1000)\n",
    "    }\n",
    "    model = xgboost.XGBRegressor(**param)\n",
    "    model.fit(X_train, y_train)\n",
    "    y_pred = model.predict(X_test)\n",
    "    return mean_squared_error(y_test, y_pred)\n",
    "\n",
    "study = optuna.create_study(direction='minimize', study_name='regression')\n",
    "study.optimize(objective, n_trials=100)"
   ]
  },
  {
   "cell_type": "code",
   "execution_count": 54,
   "metadata": {},
   "outputs": [
    {
     "name": "stdout",
     "output_type": "stream",
     "text": [
      "Best trial: score 924405856.1195315,\n",
      "params {'max_depth': 10, 'learning_rate': 0.16407638550902337, 'n_estimators': 417, 'min_child_weight': 1, 'gamma': 0.07691296612173734, 'subsample': 0.9790885421941999, 'colsample_bytree': 0.5082188996877985, 'reg_alpha': 0.22584159955674005, 'reg_lambda': 0.7487868406002102, 'random_state': 125}\n"
     ]
    },
    {
     "data": {
      "text/html": [
       "<div>\n",
       "<style scoped>\n",
       "    .dataframe tbody tr th:only-of-type {\n",
       "        vertical-align: middle;\n",
       "    }\n",
       "\n",
       "    .dataframe tbody tr th {\n",
       "        vertical-align: top;\n",
       "    }\n",
       "\n",
       "    .dataframe thead th {\n",
       "        text-align: right;\n",
       "    }\n",
       "</style>\n",
       "<table border=\"1\" class=\"dataframe\">\n",
       "  <thead>\n",
       "    <tr style=\"text-align: right;\">\n",
       "      <th></th>\n",
       "      <th>number</th>\n",
       "      <th>value</th>\n",
       "      <th>datetime_start</th>\n",
       "      <th>datetime_complete</th>\n",
       "      <th>duration</th>\n",
       "      <th>params_colsample_bytree</th>\n",
       "      <th>params_gamma</th>\n",
       "      <th>params_learning_rate</th>\n",
       "      <th>params_max_depth</th>\n",
       "      <th>params_min_child_weight</th>\n",
       "      <th>params_n_estimators</th>\n",
       "      <th>params_random_state</th>\n",
       "      <th>params_reg_alpha</th>\n",
       "      <th>params_reg_lambda</th>\n",
       "      <th>params_subsample</th>\n",
       "      <th>state</th>\n",
       "    </tr>\n",
       "  </thead>\n",
       "  <tbody>\n",
       "    <tr>\n",
       "      <th>0</th>\n",
       "      <td>0</td>\n",
       "      <td>3.096035e+09</td>\n",
       "      <td>2023-01-25 13:52:27.402766</td>\n",
       "      <td>2023-01-25 13:52:28.109842</td>\n",
       "      <td>0 days 00:00:00.707076</td>\n",
       "      <td>0.152293</td>\n",
       "      <td>0.394074</td>\n",
       "      <td>0.224767</td>\n",
       "      <td>4</td>\n",
       "      <td>7</td>\n",
       "      <td>138</td>\n",
       "      <td>527</td>\n",
       "      <td>0.228858</td>\n",
       "      <td>0.672295</td>\n",
       "      <td>0.899751</td>\n",
       "      <td>COMPLETE</td>\n",
       "    </tr>\n",
       "    <tr>\n",
       "      <th>1</th>\n",
       "      <td>1</td>\n",
       "      <td>2.553396e+09</td>\n",
       "      <td>2023-01-25 13:52:28.111345</td>\n",
       "      <td>2023-01-25 13:52:31.022680</td>\n",
       "      <td>0 days 00:00:02.911335</td>\n",
       "      <td>0.529616</td>\n",
       "      <td>0.984375</td>\n",
       "      <td>0.079303</td>\n",
       "      <td>3</td>\n",
       "      <td>10</td>\n",
       "      <td>632</td>\n",
       "      <td>496</td>\n",
       "      <td>0.269334</td>\n",
       "      <td>0.169565</td>\n",
       "      <td>0.944262</td>\n",
       "      <td>COMPLETE</td>\n",
       "    </tr>\n",
       "    <tr>\n",
       "      <th>2</th>\n",
       "      <td>2</td>\n",
       "      <td>1.803139e+09</td>\n",
       "      <td>2023-01-25 13:52:31.024678</td>\n",
       "      <td>2023-01-25 13:52:31.557541</td>\n",
       "      <td>0 days 00:00:00.532863</td>\n",
       "      <td>0.201739</td>\n",
       "      <td>0.880033</td>\n",
       "      <td>0.340053</td>\n",
       "      <td>8</td>\n",
       "      <td>2</td>\n",
       "      <td>78</td>\n",
       "      <td>362</td>\n",
       "      <td>0.827211</td>\n",
       "      <td>0.065612</td>\n",
       "      <td>0.842184</td>\n",
       "      <td>COMPLETE</td>\n",
       "    </tr>\n",
       "    <tr>\n",
       "      <th>3</th>\n",
       "      <td>3</td>\n",
       "      <td>1.575879e+09</td>\n",
       "      <td>2023-01-25 13:52:31.558541</td>\n",
       "      <td>2023-01-25 13:52:33.272445</td>\n",
       "      <td>0 days 00:00:01.713904</td>\n",
       "      <td>0.129889</td>\n",
       "      <td>0.727840</td>\n",
       "      <td>0.697046</td>\n",
       "      <td>9</td>\n",
       "      <td>6</td>\n",
       "      <td>233</td>\n",
       "      <td>326</td>\n",
       "      <td>0.446525</td>\n",
       "      <td>0.679258</td>\n",
       "      <td>0.734702</td>\n",
       "      <td>COMPLETE</td>\n",
       "    </tr>\n",
       "    <tr>\n",
       "      <th>4</th>\n",
       "      <td>4</td>\n",
       "      <td>2.963391e+09</td>\n",
       "      <td>2023-01-25 13:52:33.274449</td>\n",
       "      <td>2023-01-25 13:52:35.753208</td>\n",
       "      <td>0 days 00:00:02.478759</td>\n",
       "      <td>0.668281</td>\n",
       "      <td>0.984619</td>\n",
       "      <td>0.514499</td>\n",
       "      <td>5</td>\n",
       "      <td>9</td>\n",
       "      <td>499</td>\n",
       "      <td>866</td>\n",
       "      <td>0.503414</td>\n",
       "      <td>0.362842</td>\n",
       "      <td>0.211126</td>\n",
       "      <td>COMPLETE</td>\n",
       "    </tr>\n",
       "  </tbody>\n",
       "</table>\n",
       "</div>"
      ],
      "text/plain": [
       "   number         value             datetime_start          datetime_complete  \\\n",
       "0       0  3.096035e+09 2023-01-25 13:52:27.402766 2023-01-25 13:52:28.109842   \n",
       "1       1  2.553396e+09 2023-01-25 13:52:28.111345 2023-01-25 13:52:31.022680   \n",
       "2       2  1.803139e+09 2023-01-25 13:52:31.024678 2023-01-25 13:52:31.557541   \n",
       "3       3  1.575879e+09 2023-01-25 13:52:31.558541 2023-01-25 13:52:33.272445   \n",
       "4       4  2.963391e+09 2023-01-25 13:52:33.274449 2023-01-25 13:52:35.753208   \n",
       "\n",
       "                duration  params_colsample_bytree  params_gamma  \\\n",
       "0 0 days 00:00:00.707076                 0.152293      0.394074   \n",
       "1 0 days 00:00:02.911335                 0.529616      0.984375   \n",
       "2 0 days 00:00:00.532863                 0.201739      0.880033   \n",
       "3 0 days 00:00:01.713904                 0.129889      0.727840   \n",
       "4 0 days 00:00:02.478759                 0.668281      0.984619   \n",
       "\n",
       "   params_learning_rate  params_max_depth  params_min_child_weight  \\\n",
       "0              0.224767                 4                        7   \n",
       "1              0.079303                 3                       10   \n",
       "2              0.340053                 8                        2   \n",
       "3              0.697046                 9                        6   \n",
       "4              0.514499                 5                        9   \n",
       "\n",
       "   params_n_estimators  params_random_state  params_reg_alpha  \\\n",
       "0                  138                  527          0.228858   \n",
       "1                  632                  496          0.269334   \n",
       "2                   78                  362          0.827211   \n",
       "3                  233                  326          0.446525   \n",
       "4                  499                  866          0.503414   \n",
       "\n",
       "   params_reg_lambda  params_subsample     state  \n",
       "0           0.672295          0.899751  COMPLETE  \n",
       "1           0.169565          0.944262  COMPLETE  \n",
       "2           0.065612          0.842184  COMPLETE  \n",
       "3           0.679258          0.734702  COMPLETE  \n",
       "4           0.362842          0.211126  COMPLETE  "
      ]
     },
     "execution_count": 54,
     "metadata": {},
     "output_type": "execute_result"
    }
   ],
   "source": [
    "from optuna import visualization\n",
    "print('Best trial: score {},\\nparams {}'.format(study.best_trial.value,study.best_trial.params))\n",
    "hist = study.trials_dataframe()\n",
    "hist.head()"
   ]
  },
  {
   "cell_type": "code",
   "execution_count": 55,
   "metadata": {},
   "outputs": [
    {
     "data": {
      "application/vnd.plotly.v1+json": {
       "config": {
        "plotlyServerURL": "https://plot.ly"
       },
       "data": [
        {
         "cliponaxis": false,
         "hovertemplate": [
          "reg_lambda (FloatDistribution): 0.00042415358799757546<extra></extra>",
          "random_state (IntDistribution): 0.009595891639666166<extra></extra>",
          "colsample_bytree (FloatDistribution): 0.009623988320320388<extra></extra>",
          "gamma (FloatDistribution): 0.018427868483227097<extra></extra>",
          "n_estimators (IntDistribution): 0.01881793325582903<extra></extra>",
          "min_child_weight (IntDistribution): 0.024928731930110446<extra></extra>",
          "max_depth (IntDistribution): 0.061132850125039814<extra></extra>",
          "learning_rate (FloatDistribution): 0.23204737477438597<extra></extra>",
          "subsample (FloatDistribution): 0.26437205560347693<extra></extra>",
          "reg_alpha (FloatDistribution): 0.3606291522799467<extra></extra>"
         ],
         "marker": {
          "color": "rgb(66,146,198)"
         },
         "orientation": "h",
         "text": [
          "<0.01",
          "<0.01",
          "<0.01",
          "0.02",
          "0.02",
          "0.02",
          "0.06",
          "0.23",
          "0.26",
          "0.36"
         ],
         "textposition": "outside",
         "type": "bar",
         "x": [
          0.00042415358799757546,
          0.009595891639666166,
          0.009623988320320388,
          0.018427868483227097,
          0.01881793325582903,
          0.024928731930110446,
          0.061132850125039814,
          0.23204737477438597,
          0.26437205560347693,
          0.3606291522799467
         ],
         "y": [
          "reg_lambda",
          "random_state",
          "colsample_bytree",
          "gamma",
          "n_estimators",
          "min_child_weight",
          "max_depth",
          "learning_rate",
          "subsample",
          "reg_alpha"
         ]
        }
       ],
       "layout": {
        "showlegend": false,
        "template": {
         "data": {
          "bar": [
           {
            "error_x": {
             "color": "#2a3f5f"
            },
            "error_y": {
             "color": "#2a3f5f"
            },
            "marker": {
             "line": {
              "color": "#E5ECF6",
              "width": 0.5
             },
             "pattern": {
              "fillmode": "overlay",
              "size": 10,
              "solidity": 0.2
             }
            },
            "type": "bar"
           }
          ],
          "barpolar": [
           {
            "marker": {
             "line": {
              "color": "#E5ECF6",
              "width": 0.5
             },
             "pattern": {
              "fillmode": "overlay",
              "size": 10,
              "solidity": 0.2
             }
            },
            "type": "barpolar"
           }
          ],
          "carpet": [
           {
            "aaxis": {
             "endlinecolor": "#2a3f5f",
             "gridcolor": "white",
             "linecolor": "white",
             "minorgridcolor": "white",
             "startlinecolor": "#2a3f5f"
            },
            "baxis": {
             "endlinecolor": "#2a3f5f",
             "gridcolor": "white",
             "linecolor": "white",
             "minorgridcolor": "white",
             "startlinecolor": "#2a3f5f"
            },
            "type": "carpet"
           }
          ],
          "choropleth": [
           {
            "colorbar": {
             "outlinewidth": 0,
             "ticks": ""
            },
            "type": "choropleth"
           }
          ],
          "contour": [
           {
            "colorbar": {
             "outlinewidth": 0,
             "ticks": ""
            },
            "colorscale": [
             [
              0,
              "#0d0887"
             ],
             [
              0.1111111111111111,
              "#46039f"
             ],
             [
              0.2222222222222222,
              "#7201a8"
             ],
             [
              0.3333333333333333,
              "#9c179e"
             ],
             [
              0.4444444444444444,
              "#bd3786"
             ],
             [
              0.5555555555555556,
              "#d8576b"
             ],
             [
              0.6666666666666666,
              "#ed7953"
             ],
             [
              0.7777777777777778,
              "#fb9f3a"
             ],
             [
              0.8888888888888888,
              "#fdca26"
             ],
             [
              1,
              "#f0f921"
             ]
            ],
            "type": "contour"
           }
          ],
          "contourcarpet": [
           {
            "colorbar": {
             "outlinewidth": 0,
             "ticks": ""
            },
            "type": "contourcarpet"
           }
          ],
          "heatmap": [
           {
            "colorbar": {
             "outlinewidth": 0,
             "ticks": ""
            },
            "colorscale": [
             [
              0,
              "#0d0887"
             ],
             [
              0.1111111111111111,
              "#46039f"
             ],
             [
              0.2222222222222222,
              "#7201a8"
             ],
             [
              0.3333333333333333,
              "#9c179e"
             ],
             [
              0.4444444444444444,
              "#bd3786"
             ],
             [
              0.5555555555555556,
              "#d8576b"
             ],
             [
              0.6666666666666666,
              "#ed7953"
             ],
             [
              0.7777777777777778,
              "#fb9f3a"
             ],
             [
              0.8888888888888888,
              "#fdca26"
             ],
             [
              1,
              "#f0f921"
             ]
            ],
            "type": "heatmap"
           }
          ],
          "heatmapgl": [
           {
            "colorbar": {
             "outlinewidth": 0,
             "ticks": ""
            },
            "colorscale": [
             [
              0,
              "#0d0887"
             ],
             [
              0.1111111111111111,
              "#46039f"
             ],
             [
              0.2222222222222222,
              "#7201a8"
             ],
             [
              0.3333333333333333,
              "#9c179e"
             ],
             [
              0.4444444444444444,
              "#bd3786"
             ],
             [
              0.5555555555555556,
              "#d8576b"
             ],
             [
              0.6666666666666666,
              "#ed7953"
             ],
             [
              0.7777777777777778,
              "#fb9f3a"
             ],
             [
              0.8888888888888888,
              "#fdca26"
             ],
             [
              1,
              "#f0f921"
             ]
            ],
            "type": "heatmapgl"
           }
          ],
          "histogram": [
           {
            "marker": {
             "pattern": {
              "fillmode": "overlay",
              "size": 10,
              "solidity": 0.2
             }
            },
            "type": "histogram"
           }
          ],
          "histogram2d": [
           {
            "colorbar": {
             "outlinewidth": 0,
             "ticks": ""
            },
            "colorscale": [
             [
              0,
              "#0d0887"
             ],
             [
              0.1111111111111111,
              "#46039f"
             ],
             [
              0.2222222222222222,
              "#7201a8"
             ],
             [
              0.3333333333333333,
              "#9c179e"
             ],
             [
              0.4444444444444444,
              "#bd3786"
             ],
             [
              0.5555555555555556,
              "#d8576b"
             ],
             [
              0.6666666666666666,
              "#ed7953"
             ],
             [
              0.7777777777777778,
              "#fb9f3a"
             ],
             [
              0.8888888888888888,
              "#fdca26"
             ],
             [
              1,
              "#f0f921"
             ]
            ],
            "type": "histogram2d"
           }
          ],
          "histogram2dcontour": [
           {
            "colorbar": {
             "outlinewidth": 0,
             "ticks": ""
            },
            "colorscale": [
             [
              0,
              "#0d0887"
             ],
             [
              0.1111111111111111,
              "#46039f"
             ],
             [
              0.2222222222222222,
              "#7201a8"
             ],
             [
              0.3333333333333333,
              "#9c179e"
             ],
             [
              0.4444444444444444,
              "#bd3786"
             ],
             [
              0.5555555555555556,
              "#d8576b"
             ],
             [
              0.6666666666666666,
              "#ed7953"
             ],
             [
              0.7777777777777778,
              "#fb9f3a"
             ],
             [
              0.8888888888888888,
              "#fdca26"
             ],
             [
              1,
              "#f0f921"
             ]
            ],
            "type": "histogram2dcontour"
           }
          ],
          "mesh3d": [
           {
            "colorbar": {
             "outlinewidth": 0,
             "ticks": ""
            },
            "type": "mesh3d"
           }
          ],
          "parcoords": [
           {
            "line": {
             "colorbar": {
              "outlinewidth": 0,
              "ticks": ""
             }
            },
            "type": "parcoords"
           }
          ],
          "pie": [
           {
            "automargin": true,
            "type": "pie"
           }
          ],
          "scatter": [
           {
            "fillpattern": {
             "fillmode": "overlay",
             "size": 10,
             "solidity": 0.2
            },
            "type": "scatter"
           }
          ],
          "scatter3d": [
           {
            "line": {
             "colorbar": {
              "outlinewidth": 0,
              "ticks": ""
             }
            },
            "marker": {
             "colorbar": {
              "outlinewidth": 0,
              "ticks": ""
             }
            },
            "type": "scatter3d"
           }
          ],
          "scattercarpet": [
           {
            "marker": {
             "colorbar": {
              "outlinewidth": 0,
              "ticks": ""
             }
            },
            "type": "scattercarpet"
           }
          ],
          "scattergeo": [
           {
            "marker": {
             "colorbar": {
              "outlinewidth": 0,
              "ticks": ""
             }
            },
            "type": "scattergeo"
           }
          ],
          "scattergl": [
           {
            "marker": {
             "colorbar": {
              "outlinewidth": 0,
              "ticks": ""
             }
            },
            "type": "scattergl"
           }
          ],
          "scattermapbox": [
           {
            "marker": {
             "colorbar": {
              "outlinewidth": 0,
              "ticks": ""
             }
            },
            "type": "scattermapbox"
           }
          ],
          "scatterpolar": [
           {
            "marker": {
             "colorbar": {
              "outlinewidth": 0,
              "ticks": ""
             }
            },
            "type": "scatterpolar"
           }
          ],
          "scatterpolargl": [
           {
            "marker": {
             "colorbar": {
              "outlinewidth": 0,
              "ticks": ""
             }
            },
            "type": "scatterpolargl"
           }
          ],
          "scatterternary": [
           {
            "marker": {
             "colorbar": {
              "outlinewidth": 0,
              "ticks": ""
             }
            },
            "type": "scatterternary"
           }
          ],
          "surface": [
           {
            "colorbar": {
             "outlinewidth": 0,
             "ticks": ""
            },
            "colorscale": [
             [
              0,
              "#0d0887"
             ],
             [
              0.1111111111111111,
              "#46039f"
             ],
             [
              0.2222222222222222,
              "#7201a8"
             ],
             [
              0.3333333333333333,
              "#9c179e"
             ],
             [
              0.4444444444444444,
              "#bd3786"
             ],
             [
              0.5555555555555556,
              "#d8576b"
             ],
             [
              0.6666666666666666,
              "#ed7953"
             ],
             [
              0.7777777777777778,
              "#fb9f3a"
             ],
             [
              0.8888888888888888,
              "#fdca26"
             ],
             [
              1,
              "#f0f921"
             ]
            ],
            "type": "surface"
           }
          ],
          "table": [
           {
            "cells": {
             "fill": {
              "color": "#EBF0F8"
             },
             "line": {
              "color": "white"
             }
            },
            "header": {
             "fill": {
              "color": "#C8D4E3"
             },
             "line": {
              "color": "white"
             }
            },
            "type": "table"
           }
          ]
         },
         "layout": {
          "annotationdefaults": {
           "arrowcolor": "#2a3f5f",
           "arrowhead": 0,
           "arrowwidth": 1
          },
          "autotypenumbers": "strict",
          "coloraxis": {
           "colorbar": {
            "outlinewidth": 0,
            "ticks": ""
           }
          },
          "colorscale": {
           "diverging": [
            [
             0,
             "#8e0152"
            ],
            [
             0.1,
             "#c51b7d"
            ],
            [
             0.2,
             "#de77ae"
            ],
            [
             0.3,
             "#f1b6da"
            ],
            [
             0.4,
             "#fde0ef"
            ],
            [
             0.5,
             "#f7f7f7"
            ],
            [
             0.6,
             "#e6f5d0"
            ],
            [
             0.7,
             "#b8e186"
            ],
            [
             0.8,
             "#7fbc41"
            ],
            [
             0.9,
             "#4d9221"
            ],
            [
             1,
             "#276419"
            ]
           ],
           "sequential": [
            [
             0,
             "#0d0887"
            ],
            [
             0.1111111111111111,
             "#46039f"
            ],
            [
             0.2222222222222222,
             "#7201a8"
            ],
            [
             0.3333333333333333,
             "#9c179e"
            ],
            [
             0.4444444444444444,
             "#bd3786"
            ],
            [
             0.5555555555555556,
             "#d8576b"
            ],
            [
             0.6666666666666666,
             "#ed7953"
            ],
            [
             0.7777777777777778,
             "#fb9f3a"
            ],
            [
             0.8888888888888888,
             "#fdca26"
            ],
            [
             1,
             "#f0f921"
            ]
           ],
           "sequentialminus": [
            [
             0,
             "#0d0887"
            ],
            [
             0.1111111111111111,
             "#46039f"
            ],
            [
             0.2222222222222222,
             "#7201a8"
            ],
            [
             0.3333333333333333,
             "#9c179e"
            ],
            [
             0.4444444444444444,
             "#bd3786"
            ],
            [
             0.5555555555555556,
             "#d8576b"
            ],
            [
             0.6666666666666666,
             "#ed7953"
            ],
            [
             0.7777777777777778,
             "#fb9f3a"
            ],
            [
             0.8888888888888888,
             "#fdca26"
            ],
            [
             1,
             "#f0f921"
            ]
           ]
          },
          "colorway": [
           "#636efa",
           "#EF553B",
           "#00cc96",
           "#ab63fa",
           "#FFA15A",
           "#19d3f3",
           "#FF6692",
           "#B6E880",
           "#FF97FF",
           "#FECB52"
          ],
          "font": {
           "color": "#2a3f5f"
          },
          "geo": {
           "bgcolor": "white",
           "lakecolor": "white",
           "landcolor": "#E5ECF6",
           "showlakes": true,
           "showland": true,
           "subunitcolor": "white"
          },
          "hoverlabel": {
           "align": "left"
          },
          "hovermode": "closest",
          "mapbox": {
           "style": "light"
          },
          "paper_bgcolor": "white",
          "plot_bgcolor": "#E5ECF6",
          "polar": {
           "angularaxis": {
            "gridcolor": "white",
            "linecolor": "white",
            "ticks": ""
           },
           "bgcolor": "#E5ECF6",
           "radialaxis": {
            "gridcolor": "white",
            "linecolor": "white",
            "ticks": ""
           }
          },
          "scene": {
           "xaxis": {
            "backgroundcolor": "#E5ECF6",
            "gridcolor": "white",
            "gridwidth": 2,
            "linecolor": "white",
            "showbackground": true,
            "ticks": "",
            "zerolinecolor": "white"
           },
           "yaxis": {
            "backgroundcolor": "#E5ECF6",
            "gridcolor": "white",
            "gridwidth": 2,
            "linecolor": "white",
            "showbackground": true,
            "ticks": "",
            "zerolinecolor": "white"
           },
           "zaxis": {
            "backgroundcolor": "#E5ECF6",
            "gridcolor": "white",
            "gridwidth": 2,
            "linecolor": "white",
            "showbackground": true,
            "ticks": "",
            "zerolinecolor": "white"
           }
          },
          "shapedefaults": {
           "line": {
            "color": "#2a3f5f"
           }
          },
          "ternary": {
           "aaxis": {
            "gridcolor": "white",
            "linecolor": "white",
            "ticks": ""
           },
           "baxis": {
            "gridcolor": "white",
            "linecolor": "white",
            "ticks": ""
           },
           "bgcolor": "#E5ECF6",
           "caxis": {
            "gridcolor": "white",
            "linecolor": "white",
            "ticks": ""
           }
          },
          "title": {
           "x": 0.05
          },
          "xaxis": {
           "automargin": true,
           "gridcolor": "white",
           "linecolor": "white",
           "ticks": "",
           "title": {
            "standoff": 15
           },
           "zerolinecolor": "white",
           "zerolinewidth": 2
          },
          "yaxis": {
           "automargin": true,
           "gridcolor": "white",
           "linecolor": "white",
           "ticks": "",
           "title": {
            "standoff": 15
           },
           "zerolinecolor": "white",
           "zerolinewidth": 2
          }
         }
        },
        "title": {
         "text": "Hyperparameter Importances"
        },
        "xaxis": {
         "title": {
          "text": "Importance for Objective Value"
         }
        },
        "yaxis": {
         "title": {
          "text": "Hyperparameter"
         }
        }
       }
      }
     },
     "metadata": {},
     "output_type": "display_data"
    }
   ],
   "source": [
    "optuna.visualization.plot_param_importances(study)"
   ]
  },
  {
   "cell_type": "code",
   "execution_count": 58,
   "metadata": {},
   "outputs": [
    {
     "data": {
      "text/plain": [
       "(897, 5)"
      ]
     },
     "execution_count": 58,
     "metadata": {},
     "output_type": "execute_result"
    },
    {
     "data": {
      "text/plain": [
       "(897,)"
      ]
     },
     "execution_count": 58,
     "metadata": {},
     "output_type": "execute_result"
    }
   ],
   "source": [
    "train[FEATURES].shape\n",
    "train[TARGET].shape"
   ]
  },
  {
   "cell_type": "code",
   "execution_count": 56,
   "metadata": {},
   "outputs": [
    {
     "data": {
      "text/html": [
       "<style>#sk-container-id-2 {color: black;background-color: white;}#sk-container-id-2 pre{padding: 0;}#sk-container-id-2 div.sk-toggleable {background-color: white;}#sk-container-id-2 label.sk-toggleable__label {cursor: pointer;display: block;width: 100%;margin-bottom: 0;padding: 0.3em;box-sizing: border-box;text-align: center;}#sk-container-id-2 label.sk-toggleable__label-arrow:before {content: \"▸\";float: left;margin-right: 0.25em;color: #696969;}#sk-container-id-2 label.sk-toggleable__label-arrow:hover:before {color: black;}#sk-container-id-2 div.sk-estimator:hover label.sk-toggleable__label-arrow:before {color: black;}#sk-container-id-2 div.sk-toggleable__content {max-height: 0;max-width: 0;overflow: hidden;text-align: left;background-color: #f0f8ff;}#sk-container-id-2 div.sk-toggleable__content pre {margin: 0.2em;color: black;border-radius: 0.25em;background-color: #f0f8ff;}#sk-container-id-2 input.sk-toggleable__control:checked~div.sk-toggleable__content {max-height: 200px;max-width: 100%;overflow: auto;}#sk-container-id-2 input.sk-toggleable__control:checked~label.sk-toggleable__label-arrow:before {content: \"▾\";}#sk-container-id-2 div.sk-estimator input.sk-toggleable__control:checked~label.sk-toggleable__label {background-color: #d4ebff;}#sk-container-id-2 div.sk-label input.sk-toggleable__control:checked~label.sk-toggleable__label {background-color: #d4ebff;}#sk-container-id-2 input.sk-hidden--visually {border: 0;clip: rect(1px 1px 1px 1px);clip: rect(1px, 1px, 1px, 1px);height: 1px;margin: -1px;overflow: hidden;padding: 0;position: absolute;width: 1px;}#sk-container-id-2 div.sk-estimator {font-family: monospace;background-color: #f0f8ff;border: 1px dotted black;border-radius: 0.25em;box-sizing: border-box;margin-bottom: 0.5em;}#sk-container-id-2 div.sk-estimator:hover {background-color: #d4ebff;}#sk-container-id-2 div.sk-parallel-item::after {content: \"\";width: 100%;border-bottom: 1px solid gray;flex-grow: 1;}#sk-container-id-2 div.sk-label:hover label.sk-toggleable__label {background-color: #d4ebff;}#sk-container-id-2 div.sk-serial::before {content: \"\";position: absolute;border-left: 1px solid gray;box-sizing: border-box;top: 0;bottom: 0;left: 50%;z-index: 0;}#sk-container-id-2 div.sk-serial {display: flex;flex-direction: column;align-items: center;background-color: white;padding-right: 0.2em;padding-left: 0.2em;position: relative;}#sk-container-id-2 div.sk-item {position: relative;z-index: 1;}#sk-container-id-2 div.sk-parallel {display: flex;align-items: stretch;justify-content: center;background-color: white;position: relative;}#sk-container-id-2 div.sk-item::before, #sk-container-id-2 div.sk-parallel-item::before {content: \"\";position: absolute;border-left: 1px solid gray;box-sizing: border-box;top: 0;bottom: 0;left: 50%;z-index: -1;}#sk-container-id-2 div.sk-parallel-item {display: flex;flex-direction: column;z-index: 1;position: relative;background-color: white;}#sk-container-id-2 div.sk-parallel-item:first-child::after {align-self: flex-end;width: 50%;}#sk-container-id-2 div.sk-parallel-item:last-child::after {align-self: flex-start;width: 50%;}#sk-container-id-2 div.sk-parallel-item:only-child::after {width: 0;}#sk-container-id-2 div.sk-dashed-wrapped {border: 1px dashed gray;margin: 0 0.4em 0.5em 0.4em;box-sizing: border-box;padding-bottom: 0.4em;background-color: white;}#sk-container-id-2 div.sk-label label {font-family: monospace;font-weight: bold;display: inline-block;line-height: 1.2em;}#sk-container-id-2 div.sk-label-container {text-align: center;}#sk-container-id-2 div.sk-container {/* jupyter's `normalize.less` sets `[hidden] { display: none; }` but bootstrap.min.css set `[hidden] { display: none !important; }` so we also need the `!important` here to be able to override the default hidden behavior on the sphinx rendered scikit-learn.org. See: https://github.com/scikit-learn/scikit-learn/issues/21755 */display: inline-block !important;position: relative;}#sk-container-id-2 div.sk-text-repr-fallback {display: none;}</style><div id=\"sk-container-id-2\" class=\"sk-top-container\"><div class=\"sk-text-repr-fallback\"><pre>GridSearchCV(cv=5,\n",
       "             estimator=XGBRegressor(base_score=None, booster=None,\n",
       "                                    callbacks=None, colsample_bylevel=None,\n",
       "                                    colsample_bynode=None,\n",
       "                                    colsample_bytree=None,\n",
       "                                    early_stopping_rounds=None,\n",
       "                                    enable_categorical=False, eval_metric=None,\n",
       "                                    feature_types=None, gamma=None, gpu_id=None,\n",
       "                                    grow_policy=None, importance_type=None,\n",
       "                                    interaction_constraints=None,\n",
       "                                    learning_rate=None, m...\n",
       "                                    n_jobs=None, num_parallel_tree=None,\n",
       "                                    predictor=None, random_state=None, ...),\n",
       "             param_grid={&#x27;colsample_bytree&#x27;: [0.5082188996877985],\n",
       "                         &#x27;gamma&#x27;: [0.07691296612173734],\n",
       "                         &#x27;learning_rate&#x27;: [0.16407638550902337],\n",
       "                         &#x27;max_depth&#x27;: [&#x27;10&#x27;], &#x27;min_child_weight&#x27;: [1],\n",
       "                         &#x27;n_estimators&#x27;: [417], &#x27;random_state&#x27;: [125],\n",
       "                         &#x27;reg_alpha&#x27;: [0.22584159955674005],\n",
       "                         &#x27;reg_lambda&#x27;: [0.7487868406002102],\n",
       "                         &#x27;subsample&#x27;: [0.9790885421941999]})</pre><b>In a Jupyter environment, please rerun this cell to show the HTML representation or trust the notebook. <br />On GitHub, the HTML representation is unable to render, please try loading this page with nbviewer.org.</b></div><div class=\"sk-container\" hidden><div class=\"sk-item sk-dashed-wrapped\"><div class=\"sk-label-container\"><div class=\"sk-label sk-toggleable\"><input class=\"sk-toggleable__control sk-hidden--visually\" id=\"sk-estimator-id-2\" type=\"checkbox\" ><label for=\"sk-estimator-id-2\" class=\"sk-toggleable__label sk-toggleable__label-arrow\">GridSearchCV</label><div class=\"sk-toggleable__content\"><pre>GridSearchCV(cv=5,\n",
       "             estimator=XGBRegressor(base_score=None, booster=None,\n",
       "                                    callbacks=None, colsample_bylevel=None,\n",
       "                                    colsample_bynode=None,\n",
       "                                    colsample_bytree=None,\n",
       "                                    early_stopping_rounds=None,\n",
       "                                    enable_categorical=False, eval_metric=None,\n",
       "                                    feature_types=None, gamma=None, gpu_id=None,\n",
       "                                    grow_policy=None, importance_type=None,\n",
       "                                    interaction_constraints=None,\n",
       "                                    learning_rate=None, m...\n",
       "                                    n_jobs=None, num_parallel_tree=None,\n",
       "                                    predictor=None, random_state=None, ...),\n",
       "             param_grid={&#x27;colsample_bytree&#x27;: [0.5082188996877985],\n",
       "                         &#x27;gamma&#x27;: [0.07691296612173734],\n",
       "                         &#x27;learning_rate&#x27;: [0.16407638550902337],\n",
       "                         &#x27;max_depth&#x27;: [&#x27;10&#x27;], &#x27;min_child_weight&#x27;: [1],\n",
       "                         &#x27;n_estimators&#x27;: [417], &#x27;random_state&#x27;: [125],\n",
       "                         &#x27;reg_alpha&#x27;: [0.22584159955674005],\n",
       "                         &#x27;reg_lambda&#x27;: [0.7487868406002102],\n",
       "                         &#x27;subsample&#x27;: [0.9790885421941999]})</pre></div></div></div><div class=\"sk-parallel\"><div class=\"sk-parallel-item\"><div class=\"sk-item\"><div class=\"sk-label-container\"><div class=\"sk-label sk-toggleable\"><input class=\"sk-toggleable__control sk-hidden--visually\" id=\"sk-estimator-id-3\" type=\"checkbox\" ><label for=\"sk-estimator-id-3\" class=\"sk-toggleable__label sk-toggleable__label-arrow\">estimator: XGBRegressor</label><div class=\"sk-toggleable__content\"><pre>XGBRegressor(base_score=None, booster=None, callbacks=None,\n",
       "             colsample_bylevel=None, colsample_bynode=None,\n",
       "             colsample_bytree=None, early_stopping_rounds=None,\n",
       "             enable_categorical=False, eval_metric=None, feature_types=None,\n",
       "             gamma=None, gpu_id=None, grow_policy=None, importance_type=None,\n",
       "             interaction_constraints=None, learning_rate=None, max_bin=None,\n",
       "             max_cat_threshold=None, max_cat_to_onehot=None,\n",
       "             max_delta_step=None, max_depth=None, max_leaves=None,\n",
       "             min_child_weight=None, missing=nan, monotone_constraints=None,\n",
       "             n_estimators=100, n_jobs=None, num_parallel_tree=None,\n",
       "             predictor=None, random_state=None, ...)</pre></div></div></div><div class=\"sk-serial\"><div class=\"sk-item\"><div class=\"sk-estimator sk-toggleable\"><input class=\"sk-toggleable__control sk-hidden--visually\" id=\"sk-estimator-id-4\" type=\"checkbox\" ><label for=\"sk-estimator-id-4\" class=\"sk-toggleable__label sk-toggleable__label-arrow\">XGBRegressor</label><div class=\"sk-toggleable__content\"><pre>XGBRegressor(base_score=None, booster=None, callbacks=None,\n",
       "             colsample_bylevel=None, colsample_bynode=None,\n",
       "             colsample_bytree=None, early_stopping_rounds=None,\n",
       "             enable_categorical=False, eval_metric=None, feature_types=None,\n",
       "             gamma=None, gpu_id=None, grow_policy=None, importance_type=None,\n",
       "             interaction_constraints=None, learning_rate=None, max_bin=None,\n",
       "             max_cat_threshold=None, max_cat_to_onehot=None,\n",
       "             max_delta_step=None, max_depth=None, max_leaves=None,\n",
       "             min_child_weight=None, missing=nan, monotone_constraints=None,\n",
       "             n_estimators=100, n_jobs=None, num_parallel_tree=None,\n",
       "             predictor=None, random_state=None, ...)</pre></div></div></div></div></div></div></div></div></div></div>"
      ],
      "text/plain": [
       "GridSearchCV(cv=5,\n",
       "             estimator=XGBRegressor(base_score=None, booster=None,\n",
       "                                    callbacks=None, colsample_bylevel=None,\n",
       "                                    colsample_bynode=None,\n",
       "                                    colsample_bytree=None,\n",
       "                                    early_stopping_rounds=None,\n",
       "                                    enable_categorical=False, eval_metric=None,\n",
       "                                    feature_types=None, gamma=None, gpu_id=None,\n",
       "                                    grow_policy=None, importance_type=None,\n",
       "                                    interaction_constraints=None,\n",
       "                                    learning_rate=None, m...\n",
       "                                    n_jobs=None, num_parallel_tree=None,\n",
       "                                    predictor=None, random_state=None, ...),\n",
       "             param_grid={'colsample_bytree': [0.5082188996877985],\n",
       "                         'gamma': [0.07691296612173734],\n",
       "                         'learning_rate': [0.16407638550902337],\n",
       "                         'max_depth': ['10'], 'min_child_weight': [1],\n",
       "                         'n_estimators': [417], 'random_state': [125],\n",
       "                         'reg_alpha': [0.22584159955674005],\n",
       "                         'reg_lambda': [0.7487868406002102],\n",
       "                         'subsample': [0.9790885421941999]})"
      ]
     },
     "execution_count": 56,
     "metadata": {},
     "output_type": "execute_result"
    }
   ],
   "source": [
    "#  {'max_depth': 10, 'learning_rate': 0.16407638550902337,\n",
    "# 'n_estimators': 417, 'min_child_weight': 1, 'gamma': 0.07691296612173734, \n",
    "# 'subsample': 0.9790885421941999, 'colsample_bytree': 0.5082188996877985, \n",
    "# 'reg_alpha': 0.22584159955674005, 'reg_lambda': 0.7487868406002102, 'random_state': 125}\n",
    "from xgboost import XGBRegressor\n",
    "from sklearn.model_selection import GridSearchCV, train_test_split\n",
    "from sklearn.metrics import accuracy_score\n",
    "\n",
    "X_train, X_test, y_train, y_test = train_test_split(train[FEATURES], train[TARGET], test_size=0.3,random_state=42)\n",
    "clf=XGBRegressor()\n",
    "parametres={'max_depth': ['10'], 'learning_rate':[0.16407638550902337], 'n_estimators': [417], \n",
    "'min_child_weight': [1], 'gamma': [0.07691296612173734], 'subsample': [0.9790885421941999], \n",
    "'colsample_bytree': [0.5082188996877985], 'reg_alpha': [0.22584159955674005], 'reg_lambda': [0.7487868406002102],'random_state': [125]}\n",
    "grid_search_cv_clf=GridSearchCV(clf,parametres,cv=5)\n",
    "grid_search_cv_clf.fit(X_train,y_train)\n",
    "best_clf2=grid_search_cv_clf.best_estimator_\n",
    "r2_score = best_clf2.score(X_test,y_test)"
   ]
  },
  {
   "attachments": {},
   "cell_type": "markdown",
   "metadata": {},
   "source": [
    "### 모델 저장"
   ]
  },
  {
   "cell_type": "code",
   "execution_count": 62,
   "metadata": {},
   "outputs": [
    {
     "data": {
      "text/plain": [
       "Index(['Breakage_3', 'Crushed_2', 'Scratch_0', 'Seperated_1', 'car_name',\n",
       "       'id'],\n",
       "      dtype='object')"
      ]
     },
     "execution_count": 62,
     "metadata": {},
     "output_type": "execute_result"
    }
   ],
   "source": [
    "X_train.columns"
   ]
  },
  {
   "cell_type": "code",
   "execution_count": 57,
   "metadata": {},
   "outputs": [],
   "source": [
    "import joblib\n",
    "model_path = './' + 'models/' + 'test_XGB03' +'.model'\n",
    "# model.save_model(model_path)\n",
    "joblib.dump(best_clf2, open(model_path, 'wb'))"
   ]
  },
  {
   "cell_type": "code",
   "execution_count": 59,
   "metadata": {},
   "outputs": [],
   "source": [
    "import joblib\n",
    "model_path = './' + 'models/' + 'test_XGB03' +'.model'\n",
    "new_model = joblib.load(model_path)"
   ]
  },
  {
   "cell_type": "code",
   "execution_count": 68,
   "metadata": {},
   "outputs": [
    {
     "data": {
      "text/plain": [
       "Breakage_3        9\n",
       "Crushed_2         0\n",
       "Scratch_0      1562\n",
       "Seperated_1       0\n",
       "car_name        208\n",
       "id             3843\n",
       "Name: 5394, dtype: int64"
      ]
     },
     "execution_count": 68,
     "metadata": {},
     "output_type": "execute_result"
    },
    {
     "data": {
      "text/plain": [
       "146010"
      ]
     },
     "execution_count": 68,
     "metadata": {},
     "output_type": "execute_result"
    }
   ],
   "source": [
    "X_test.iloc[1]\n",
    "y_test.iloc[1]"
   ]
  },
  {
   "cell_type": "code",
   "execution_count": 60,
   "metadata": {},
   "outputs": [
    {
     "name": "stdout",
     "output_type": "stream",
     "text": [
      "[157412.22]\n"
     ]
    }
   ],
   "source": [
    "# 실제값 146010 인데 157412.22로 예측\n",
    "print(new_model.predict(X_test.iloc[1].values.reshape(1,6)))"
   ]
  },
  {
   "cell_type": "code",
   "execution_count": 15,
   "metadata": {},
   "outputs": [
    {
     "data": {
      "text/plain": [
       "(17251, 6)"
      ]
     },
     "execution_count": 15,
     "metadata": {},
     "output_type": "execute_result"
    },
    {
     "data": {
      "text/plain": [
       "(1, 6)"
      ]
     },
     "execution_count": 15,
     "metadata": {},
     "output_type": "execute_result"
    }
   ],
   "source": [
    "X_test.shape\n",
    "X_test.iloc[1].values.reshape(1,6).shape"
   ]
  },
  {
   "cell_type": "code",
   "execution_count": 16,
   "metadata": {},
   "outputs": [
    {
     "data": {
      "text/plain": [
       "array([[ 300, 1145,    0,    0,  223, 3746]], dtype=int64)"
      ]
     },
     "execution_count": 16,
     "metadata": {},
     "output_type": "execute_result"
    },
    {
     "name": "stdout",
     "output_type": "stream",
     "text": [
      "[154320.7]\n"
     ]
    }
   ],
   "source": [
    "X_test.iloc[1].values.reshape(1,6)\n",
    "print(model.predict(X_test.iloc[1].values.reshape(1,6)))"
   ]
  },
  {
   "cell_type": "code",
   "execution_count": 17,
   "metadata": {},
   "outputs": [
    {
     "data": {
      "text/plain": [
       "(1, 6)"
      ]
     },
     "execution_count": 17,
     "metadata": {},
     "output_type": "execute_result"
    },
    {
     "data": {
      "text/plain": [
       "(6,)"
      ]
     },
     "execution_count": 17,
     "metadata": {},
     "output_type": "execute_result"
    }
   ],
   "source": [
    "X_test.iloc[1].values.reshape(1,6).shape\n",
    "X_test.iloc[1].shape"
   ]
  },
  {
   "cell_type": "code",
   "execution_count": 18,
   "metadata": {},
   "outputs": [
    {
     "name": "stdout",
     "output_type": "stream",
     "text": [
      "[155435.55  154320.7   135639.58  ... 109060.945 145241.6   137817.33 ]\n"
     ]
    }
   ],
   "source": [
    "print(model.predict(X_test))"
   ]
  },
  {
   "cell_type": "code",
   "execution_count": null,
   "metadata": {},
   "outputs": [],
   "source": []
  }
 ],
 "metadata": {
  "kernelspec": {
   "display_name": "Python 3",
   "language": "python",
   "name": "python3"
  },
  "language_info": {
   "codemirror_mode": {
    "name": "ipython",
    "version": 3
   },
   "file_extension": ".py",
   "mimetype": "text/x-python",
   "name": "python",
   "nbconvert_exporter": "python",
   "pygments_lexer": "ipython3",
   "version": "3.10.9"
  },
  "orig_nbformat": 4,
  "vscode": {
   "interpreter": {
    "hash": "d86e5f3e65a370f4f0c7c6c157476db0f2576129ce19971a1015c727da11cca3"
   }
  }
 },
 "nbformat": 4,
 "nbformat_minor": 2
}
