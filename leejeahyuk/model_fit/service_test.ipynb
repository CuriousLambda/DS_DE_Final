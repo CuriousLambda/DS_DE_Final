{
 "cells": [
  {
   "cell_type": "code",
   "execution_count": 1,
   "metadata": {},
   "outputs": [
    {
     "name": "stderr",
     "output_type": "stream",
     "text": [
      "C:\\Users\\deepBlue\\AppData\\Local\\Packages\\PythonSoftwareFoundation.Python.3.10_qbz5n2kfra8p0\\LocalCache\\local-packages\\Python310\\site-packages\\tqdm\\auto.py:22: TqdmWarning: IProgress not found. Please update jupyter and ipywidgets. See https://ipywidgets.readthedocs.io/en/stable/user_install.html\n",
      "  from .autonotebook import tqdm as notebook_tqdm\n"
     ]
    }
   ],
   "source": [
    "import torch\n",
    "from torch import nn, optim\n",
    "import segmentation_models_pytorch as smp\n",
    "\n",
    "\n",
    "class Unet(nn.Module):\n",
    "    def __init__(self, num_classes,encoder,pre_weight):\n",
    "        super().__init__()\n",
    "        self.model = smp.Unet( classes = num_classes,\n",
    "                              encoder_name=encoder,\n",
    "                              encoder_weights=pre_weight,\n",
    "                              in_channels=3)\n",
    "    \n",
    "    def forward(self, x):\n",
    "        y = self.model(x)\n",
    "        encoder_weights = \"imagenet\"\n",
    "        return y"
   ]
  },
  {
   "cell_type": "code",
   "execution_count": 2,
   "metadata": {},
   "outputs": [
    {
     "name": "stdout",
     "output_type": "stream",
     "text": [
      "Loaded pretrained models!\n"
     ]
    }
   ],
   "source": [
    "# 라벨 순서에 맞게 모델 적제\n",
    "\n",
    "labels = ['Breakage_3', 'Crushed_2', 'Scratch_0', 'Seperated_1']\n",
    "models = []\n",
    "\n",
    "n_classes = 2\n",
    "device = 'cuda' if torch.cuda.is_available() else 'cpu'\n",
    "\n",
    "for label in labels:\n",
    "    model_path = f'models/[DAMAGE][{label}]Unet.pt'\n",
    "\n",
    "    model = Unet(encoder='resnet34', pre_weight='imagenet', num_classes=n_classes).to(device)\n",
    "    model.model.load_state_dict(torch.load(model_path, map_location=torch.device(device)))\n",
    "    model.eval()\n",
    "\n",
    "    models.append(model)\n",
    "\n",
    "print('Loaded pretrained models!')"
   ]
  },
  {
   "cell_type": "code",
   "execution_count": 5,
   "metadata": {},
   "outputs": [],
   "source": [
    "import os\n",
    "\n",
    "# 테스트 이미지 경로\n",
    "path_test = './data/testimg/'\n",
    "test_img_list  = os.listdir(path_test)\n",
    "test_img = test_img_list[0]\n",
    "\n",
    "# 견적서 경로\n",
    "# estimate_path = './1.Training/1.원천데이터/TS_99.붙임_견적서/'\n",
    "# estimate_list = os.listdir(estimate_path)"
   ]
  },
  {
   "cell_type": "code",
   "execution_count": 6,
   "metadata": {},
   "outputs": [
    {
     "data": {
      "text/plain": [
       "'0000008_as-0036229.jpg'"
      ]
     },
     "execution_count": 6,
     "metadata": {},
     "output_type": "execute_result"
    }
   ],
   "source": [
    "test_img"
   ]
  },
  {
   "cell_type": "code",
   "execution_count": 24,
   "metadata": {},
   "outputs": [],
   "source": [
    "## 테스트 이미지에 id와 car_name 값 입력\n",
    "import pandas as pd\n",
    "\n",
    "max_id = 18246\n",
    "test_car_name = ['']\n",
    "repair_cost = {\n",
    "    'Breakage_3':[],\n",
    "    'Crushed_2':[],\n",
    "    'Scratch_0':[],\n",
    "    'Seperated_1':[],    \n",
    "    'id':[],\n",
    "    'car_name':[],\n",
    "    }\n",
    "\n",
    "repair_cost['id'].append(max_id)\n",
    "repair_cost['car_name'].append('올뉴모닝')\n",
    "# repair_cost['id'].append(max_id)\n",
    "# for j in range(len(estimate_list)):\n",
    "#     if test_img.split('_')[1].split('.')[0] == estimate_list[j].split('.')[0]:            \n",
    "#         df = pd.read_excel(estimate_path+estimate_list[j])\n",
    "#         repair_cost['car_name'].append(df[df['Unnamed: 7']=='차량명칭']['Unnamed: 8'].to_list()[0].split('(')[0])"
   ]
  },
  {
   "cell_type": "code",
   "execution_count": 25,
   "metadata": {},
   "outputs": [
    {
     "data": {
      "text/plain": [
       "{'Breakage_3': [],\n",
       " 'Crushed_2': [],\n",
       " 'Scratch_0': [],\n",
       " 'Seperated_1': [],\n",
       " 'id': [18246],\n",
       " 'car_name': ['올뉴모닝']}"
      ]
     },
     "execution_count": 25,
     "metadata": {},
     "output_type": "execute_result"
    }
   ],
   "source": [
    "repair_cost"
   ]
  },
  {
   "cell_type": "code",
   "execution_count": 26,
   "metadata": {},
   "outputs": [],
   "source": [
    "import torch\n",
    "import cv2\n",
    "import matplotlib.pyplot as plt\n",
    "import re\n",
    "\n",
    "for img_list in range(1):\n",
    "    img = cv2.imread(path_test+test_img_list[img_list])    \n",
    "    img = cv2.cvtColor(img, cv2.COLOR_BGR2RGB)\n",
    "    img = cv2.resize(img, (256, 256))\n",
    "\n",
    "    img_input = img/255\n",
    "    img_input = img_input.transpose([2, 0, 1])\n",
    "    img_input = torch.tensor(img_input).float().to(device)\n",
    "    img_input = img_input.unsqueeze(0)\n",
    "    \n",
    "    outputs = []\n",
    "    for i, model in enumerate(models):\n",
    "        output = model(img_input)\n",
    "\n",
    "        img_output = torch.argmax(output, dim=1).detach().cpu().numpy()\n",
    "        img_output = img_output.transpose([1, 2, 0])\n",
    "\n",
    "        outputs.append(img_output)\n",
    "\n",
    "    for i, label in enumerate(labels):\n",
    "        repair_cost[label].append(outputs[i].sum())\n",
    "\n",
    "\n",
    "# 모든 masking 값이 1로 되어있으므로 모든 값을 더한 값이 면적이 된다\n",
    "# 그러므로 sum()으로 합쳐주기만 하면 면적을 구할 수 있다.\n",
    "\n",
    "# output = 이미지를 모델로 훈련한 결과\n",
    "# outputs = 4개 모델의 결과를 전부 합친 것 \n",
    "\n",
    "# repair_cost[label] dict에 output의 값을 전부 합친 값을 입력\n",
    "\n",
    "\n",
    "# import numpy as np\n",
    "# test = np.array(outputs).flatten()\n",
    "# print([x for x in test if x!=0])"
   ]
  },
  {
   "cell_type": "code",
   "execution_count": 27,
   "metadata": {},
   "outputs": [
    {
     "data": {
      "text/plain": [
       "{'Breakage_3': [0],\n",
       " 'Crushed_2': [0],\n",
       " 'Scratch_0': [0],\n",
       " 'Seperated_1': [678],\n",
       " 'id': [18246],\n",
       " 'car_name': ['올뉴모닝']}"
      ]
     },
     "execution_count": 27,
     "metadata": {},
     "output_type": "execute_result"
    }
   ],
   "source": [
    "repair_cost"
   ]
  },
  {
   "cell_type": "code",
   "execution_count": 28,
   "metadata": {},
   "outputs": [],
   "source": [
    "import joblib\n",
    "model_path = './' + 'models/' + 'test_XGB03' +'.model'\n",
    "new_model = joblib.load(model_path)"
   ]
  },
  {
   "cell_type": "code",
   "execution_count": 29,
   "metadata": {},
   "outputs": [
    {
     "data": {
      "text/html": [
       "<div>\n",
       "<style scoped>\n",
       "    .dataframe tbody tr th:only-of-type {\n",
       "        vertical-align: middle;\n",
       "    }\n",
       "\n",
       "    .dataframe tbody tr th {\n",
       "        vertical-align: top;\n",
       "    }\n",
       "\n",
       "    .dataframe thead th {\n",
       "        text-align: right;\n",
       "    }\n",
       "</style>\n",
       "<table border=\"1\" class=\"dataframe\">\n",
       "  <thead>\n",
       "    <tr style=\"text-align: right;\">\n",
       "      <th></th>\n",
       "      <th>Breakage_3</th>\n",
       "      <th>Crushed_2</th>\n",
       "      <th>Scratch_0</th>\n",
       "      <th>Seperated_1</th>\n",
       "      <th>id</th>\n",
       "      <th>car_name</th>\n",
       "    </tr>\n",
       "  </thead>\n",
       "  <tbody>\n",
       "    <tr>\n",
       "      <th>0</th>\n",
       "      <td>0</td>\n",
       "      <td>0</td>\n",
       "      <td>0</td>\n",
       "      <td>678</td>\n",
       "      <td>18246</td>\n",
       "      <td>올뉴모닝</td>\n",
       "    </tr>\n",
       "  </tbody>\n",
       "</table>\n",
       "</div>"
      ],
      "text/plain": [
       "   Breakage_3  Crushed_2  Scratch_0  Seperated_1     id car_name\n",
       "0           0          0          0          678  18246     올뉴모닝"
      ]
     },
     "execution_count": 29,
     "metadata": {},
     "output_type": "execute_result"
    }
   ],
   "source": [
    "df_rp = pd.DataFrame(repair_cost) \n",
    "df_rp"
   ]
  },
  {
   "cell_type": "code",
   "execution_count": 30,
   "metadata": {},
   "outputs": [
    {
     "data": {
      "text/plain": [
       "'올뉴모닝'"
      ]
     },
     "execution_count": 30,
     "metadata": {},
     "output_type": "execute_result"
    }
   ],
   "source": [
    "df_rp['car_name'][0]"
   ]
  },
  {
   "cell_type": "code",
   "execution_count": 31,
   "metadata": {},
   "outputs": [],
   "source": [
    "label_info = pd.read_csv('./data/label_data.csv')\n",
    "for i in range(len(label_info['car_name'])):\n",
    "    # print(label_info['car_name'][i])\n",
    "    # print(label_info['labeled'][i])\n",
    "    # print(df_rp['car_name'][0] == label_info['car_name'][i])\n",
    "    if df_rp['car_name'][0] == label_info['car_name'][i]:\n",
    "        df_rp = df_rp.replace(label_info['car_name'][i],label_info['labeled'][i])"
   ]
  },
  {
   "cell_type": "code",
   "execution_count": 32,
   "metadata": {},
   "outputs": [
    {
     "data": {
      "text/html": [
       "<div>\n",
       "<style scoped>\n",
       "    .dataframe tbody tr th:only-of-type {\n",
       "        vertical-align: middle;\n",
       "    }\n",
       "\n",
       "    .dataframe tbody tr th {\n",
       "        vertical-align: top;\n",
       "    }\n",
       "\n",
       "    .dataframe thead th {\n",
       "        text-align: right;\n",
       "    }\n",
       "</style>\n",
       "<table border=\"1\" class=\"dataframe\">\n",
       "  <thead>\n",
       "    <tr style=\"text-align: right;\">\n",
       "      <th></th>\n",
       "      <th>Breakage_3</th>\n",
       "      <th>Crushed_2</th>\n",
       "      <th>Scratch_0</th>\n",
       "      <th>Seperated_1</th>\n",
       "      <th>id</th>\n",
       "      <th>car_name</th>\n",
       "    </tr>\n",
       "  </thead>\n",
       "  <tbody>\n",
       "    <tr>\n",
       "      <th>0</th>\n",
       "      <td>0</td>\n",
       "      <td>0</td>\n",
       "      <td>0</td>\n",
       "      <td>678</td>\n",
       "      <td>18246</td>\n",
       "      <td>217</td>\n",
       "    </tr>\n",
       "  </tbody>\n",
       "</table>\n",
       "</div>"
      ],
      "text/plain": [
       "   Breakage_3  Crushed_2  Scratch_0  Seperated_1     id  car_name\n",
       "0           0          0          0          678  18246       217"
      ]
     },
     "execution_count": 32,
     "metadata": {},
     "output_type": "execute_result"
    }
   ],
   "source": [
    "label_info = pd.read_csv('./data/label_data.csv')\n",
    "for i in range(len(label_info['car_name'])):\n",
    "    if df_rp['car_name'][0] == label_info['car_name'][i]:\n",
    "        df_rp = df_rp.replace(label_info['car_name'][i],label_info['labeled'][i])\n",
    "df_rp"
   ]
  },
  {
   "cell_type": "code",
   "execution_count": 33,
   "metadata": {},
   "outputs": [
    {
     "data": {
      "text/plain": [
       "array([[    0,     0,     0,   678, 18246,   217]], dtype=int64)"
      ]
     },
     "execution_count": 33,
     "metadata": {},
     "output_type": "execute_result"
    }
   ],
   "source": [
    "df_rp.iloc[0].values.reshape(1,6)"
   ]
  },
  {
   "cell_type": "code",
   "execution_count": 34,
   "metadata": {},
   "outputs": [
    {
     "data": {
      "text/plain": [
       "array([405082.6], dtype=float32)"
      ]
     },
     "execution_count": 34,
     "metadata": {},
     "output_type": "execute_result"
    }
   ],
   "source": [
    "new_model.predict(df_rp.iloc[0].values.reshape(1,6))"
   ]
  },
  {
   "cell_type": "code",
   "execution_count": null,
   "metadata": {},
   "outputs": [],
   "source": []
  }
 ],
 "metadata": {
  "kernelspec": {
   "display_name": "Python 3",
   "language": "python",
   "name": "python3"
  },
  "language_info": {
   "codemirror_mode": {
    "name": "ipython",
    "version": 3
   },
   "file_extension": ".py",
   "mimetype": "text/x-python",
   "name": "python",
   "nbconvert_exporter": "python",
   "pygments_lexer": "ipython3",
   "version": "3.10.9 (tags/v3.10.9:1dd9be6, Dec  6 2022, 20:01:21) [MSC v.1934 64 bit (AMD64)]"
  },
  "orig_nbformat": 4,
  "vscode": {
   "interpreter": {
    "hash": "d86e5f3e65a370f4f0c7c6c157476db0f2576129ce19971a1015c727da11cca3"
   }
  }
 },
 "nbformat": 4,
 "nbformat_minor": 2
}
